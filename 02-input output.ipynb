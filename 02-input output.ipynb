{
  "cells": [
    {
      "metadata": {
        "trusted": true
      },
      "cell_type": "code",
      "source": "title=input(\"What's the title of the game?\")",
      "execution_count": 9,
      "outputs": [
        {
          "output_type": "stream",
          "name": "stdout",
          "text": "What's the title of the game?2K19\n"
        }
      ]
    },
    {
      "metadata": {
        "trusted": true
      },
      "cell_type": "code",
      "source": "price=input(\"What's the price of \"+title+\"? $\")\nprice=float(price)",
      "execution_count": 21,
      "outputs": [
        {
          "output_type": "stream",
          "name": "stdout",
          "text": "What's the price of 2K19? $34.99\n"
        }
      ]
    },
    {
      "metadata": {
        "trusted": true
      },
      "cell_type": "code",
      "source": "print(\"Game: \"+ title)\nprint(\"Price: $\"+str(price))",
      "execution_count": 12,
      "outputs": [
        {
          "output_type": "stream",
          "text": "Game: 2K19\nPrice: $69.99\n",
          "name": "stdout"
        }
      ]
    },
    {
      "metadata": {
        "trusted": true
      },
      "cell_type": "code",
      "source": "TAX_RATE=.065 #this is a constant value for tax rate\nsalesTax=(price)*TAX_RATE\nprint(\"Sales Tax: $\"+str(salesTax))",
      "execution_count": 16,
      "outputs": [
        {
          "output_type": "stream",
          "text": "Sales Tax: $4.54935\n",
          "name": "stdout"
        }
      ]
    },
    {
      "metadata": {
        "trusted": true
      },
      "cell_type": "code",
      "source": "total=price+salesTax\nprint(\"Total: $\"+ str(total))\nprint(\"Formatted: $\"+format(total,'.2f'))",
      "execution_count": 19,
      "outputs": [
        {
          "output_type": "stream",
          "text": "Total: $74.53935\nFormatted: $74.54\n",
          "name": "stdout"
        }
      ]
    },
    {
      "metadata": {
        "trusted": true
      },
      "cell_type": "code",
      "source": "format(74.53935,'.2f')",
      "execution_count": 18,
      "outputs": [
        {
          "output_type": "execute_result",
          "execution_count": 18,
          "data": {
            "text/plain": "'74.54'"
          },
          "metadata": {}
        }
      ]
    },
    {
      "metadata": {
        "trusted": true
      },
      "cell_type": "code",
      "source": "thousandCopiesTotal=total*1000\nprint(\"Price for 1k Cop\")",
      "execution_count": null,
      "outputs": []
    }
  ],
  "metadata": {
    "kernelspec": {
      "name": "python36",
      "display_name": "Python 3.6",
      "language": "python"
    },
    "language_info": {
      "mimetype": "text/x-python",
      "nbconvert_exporter": "python",
      "name": "python",
      "pygments_lexer": "ipython3",
      "version": "3.6.6",
      "file_extension": ".py",
      "codemirror_mode": {
        "version": 3,
        "name": "ipython"
      }
    }
  },
  "nbformat": 4,
  "nbformat_minor": 1
}