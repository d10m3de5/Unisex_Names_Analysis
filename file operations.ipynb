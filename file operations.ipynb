{
  "cells": [
    {
      "metadata": {
        "trusted": true
      },
      "cell_type": "code",
      "source": "",
      "execution_count": null,
      "outputs": []
    },
    {
      "metadata": {
        "trusted": true
      },
      "cell_type": "code",
      "source": "def addNumbers():\n    #Open file for reading.\n    infile=open('numbers.txt','r')\n    num1=int(infile.readline())\n    num2=int(infile.readline())\n    num3=int(infile.readline())\n    \n    #Close the file\n    infile.close()\n    \n    #Add the three numbers\n    \n    total=num1+num2+num3\n    \n    print('The numbers are: ', num1, num2, num3)\n    print('Their total is: ', total)\n\n#call the function main  \naddNumbers()",
      "execution_count": 1,
      "outputs": [
        {
          "output_type": "stream",
          "text": "The numbers are:  3 29 51\nTheir total is:  83\n",
          "name": "stdout"
        }
      ]
    },
    {
      "metadata": {
        "trusted": true
      },
      "cell_type": "code",
      "source": "def readNumbers():\n    #Open file for reading.\n    infile=open('numbers.txt','r')\n    \n    line=infile.readline()\n    total=0\n    while line !='':\n        num=int(line)\n        total+=num\n        line=infile.readline()\n    print('The total is: ', str (total))\n    #Close the file\n    infile.close()\n    \n\n#call the function main  \nreadNumbers()",
      "execution_count": 5,
      "outputs": [
        {
          "output_type": "stream",
          "text": "The total is:  83\n",
          "name": "stdout"
        }
      ]
    },
    {
      "metadata": {
        "trusted": true
      },
      "cell_type": "code",
      "source": "def forNumbers():\n    #Open file for reading.\n    infile=open('numbers.txt','r')\n    \n    total=0\n    for line in infile:\n        num=int(line)\n        total+=num\n    print('The total is: ', str (total))\n    #Close the file\n    infile.close()\n    \n\n#call the function main  \nforNumbers()",
      "execution_count": 8,
      "outputs": [
        {
          "output_type": "stream",
          "text": "The total is:  83\n",
          "name": "stdout"
        }
      ]
    },
    {
      "metadata": {
        "trusted": true
      },
      "cell_type": "code",
      "source": "def main():\n    filename=input('Enter a filename: ')\n    \n    try:\n        infile=open(filename,'r')\n        \n        content=infile.read()\n        \n        print(contents)\n        \n        infile.close()\n    except IOError:\n        print('An error occured trying to read')\n        print('the file', filename)\nmain()",
      "execution_count": 10,
      "outputs": [
        {
          "output_type": "stream",
          "name": "stdout",
          "text": "Enter a filename: filename.txt\nAn error occured trying to read\nthe file filename.txt\n"
        }
      ]
    },
    {
      "metadata": {
        "trusted": true
      },
      "cell_type": "code",
      "source": "",
      "execution_count": null,
      "outputs": []
    }
  ],
  "metadata": {
    "kernelspec": {
      "name": "python36",
      "display_name": "Python 3.6",
      "language": "python"
    },
    "language_info": {
      "mimetype": "text/x-python",
      "nbconvert_exporter": "python",
      "name": "python",
      "pygments_lexer": "ipython3",
      "version": "3.6.6",
      "file_extension": ".py",
      "codemirror_mode": {
        "version": 3,
        "name": "ipython"
      }
    }
  },
  "nbformat": 4,
  "nbformat_minor": 2
}