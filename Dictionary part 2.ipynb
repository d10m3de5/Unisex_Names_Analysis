{
  "cells": [
    {
      "metadata": {
        "collapsed": true,
        "trusted": false
      },
      "cell_type": "code",
      "source": "#GameStop Game Dictionary\ntitle\ngenre\nprice\nrating\n",
      "execution_count": null,
      "outputs": []
    },
    {
      "metadata": {
        "trusted": true
      },
      "cell_type": "code",
      "source": "game={\"title\": \"COD: Warzone\", \"genre\":\"FPS\", \"price\":0.00,\"rating\":\"M\" }\ngame",
      "execution_count": 1,
      "outputs": [
        {
          "output_type": "execute_result",
          "execution_count": 1,
          "data": {
            "text/plain": "{'title': 'COD: Warzone', 'genre': 'FPS', 'price': 0.0, 'rating': 'M'}"
          },
          "metadata": {}
        }
      ]
    },
    {
      "metadata": {
        "trusted": true
      },
      "cell_type": "code",
      "source": "game[\"title\"]",
      "execution_count": 3,
      "outputs": [
        {
          "output_type": "execute_result",
          "execution_count": 3,
          "data": {
            "text/plain": "'COD: Warzone'"
          },
          "metadata": {}
        }
      ]
    },
    {
      "metadata": {
        "trusted": true
      },
      "cell_type": "code",
      "source": "list(game.keys())",
      "execution_count": 7,
      "outputs": [
        {
          "output_type": "execute_result",
          "execution_count": 7,
          "data": {
            "text/plain": "['title', 'genre', 'price', 'rating']"
          },
          "metadata": {}
        }
      ]
    },
    {
      "metadata": {
        "trusted": true
      },
      "cell_type": "code",
      "source": "list(game.values())",
      "execution_count": 6,
      "outputs": [
        {
          "output_type": "execute_result",
          "execution_count": 6,
          "data": {
            "text/plain": "['COD: Warzone', 'FPS', 0.0, 'M']"
          },
          "metadata": {}
        }
      ]
    },
    {
      "metadata": {
        "trusted": true
      },
      "cell_type": "code",
      "source": "for attributes in list(game.keys()):\n    print (attributes)",
      "execution_count": 9,
      "outputs": [
        {
          "output_type": "stream",
          "text": "title\ngenre\nprice\nrating\n",
          "name": "stdout"
        }
      ]
    },
    {
      "metadata": {
        "trusted": true
      },
      "cell_type": "code",
      "source": "for key in list(game.keys()):\n    value=game[key]\n    print(value)",
      "execution_count": 10,
      "outputs": [
        {
          "output_type": "stream",
          "text": "COD: Warzone\nFPS\n0.0\nM\n",
          "name": "stdout"
        }
      ]
    },
    {
      "metadata": {
        "trusted": true
      },
      "cell_type": "code",
      "source": "del game[\"rating\"] #use del to delete, clear to clear\ngame",
      "execution_count": 11,
      "outputs": [
        {
          "output_type": "execute_result",
          "execution_count": 11,
          "data": {
            "text/plain": "{'title': 'COD: Warzone', 'genre': 'FPS', 'price': 0.0}"
          },
          "metadata": {}
        }
      ]
    },
    {
      "metadata": {
        "trusted": true
      },
      "cell_type": "code",
      "source": "FIFA20\nForza\nCreative Destruction\nMineCraft\nPokemon Ruby\nTomb Raider\n\n",
      "execution_count": null,
      "outputs": []
    },
    {
      "metadata": {
        "trusted": true
      },
      "cell_type": "code",
      "source": "games=[{\"title\": \"FIFA20\", \"price\": 60}, \n       {\"title\": \"Forza\", \"price\":40},\n       {\"title\": \"Creative Destruction\", \"price\": 0},\n       {\"title\": \"MineCraft\", \"price\": 10},\n       {\"title\": \"Pokemon Ruby\", \"price\": 40},\n       {\"title\": \"Tomb Raider\", \"price\": 15}]\n\ngames",
      "execution_count": 16,
      "outputs": [
        {
          "output_type": "execute_result",
          "execution_count": 16,
          "data": {
            "text/plain": "[{'title': 'FIFA20', 'price': 60},\n {'title': 'Forza', 'price': 40},\n {'title': 'Creative Destruction', 'price': 0},\n {'title': 'MineCraft', 'price': 10},\n {'title': 'Pokemon Ruby', 'price': 40},\n {'title': 'Tomb Raider', 'price': 15}]"
          },
          "metadata": {}
        }
      ]
    },
    {
      "metadata": {
        "trusted": true
      },
      "cell_type": "code",
      "source": "games[4][\"title\"]",
      "execution_count": 21,
      "outputs": [
        {
          "output_type": "execute_result",
          "execution_count": 21,
          "data": {
            "text/plain": "'Pokemon Ruby'"
          },
          "metadata": {}
        }
      ]
    },
    {
      "metadata": {
        "trusted": true
      },
      "cell_type": "code",
      "source": "#each element \nfor game in games:\n    if game[\"price\"]<20:\n        print (game[\"title\"])",
      "execution_count": 22,
      "outputs": [
        {
          "output_type": "stream",
          "text": "Creative Destruction\nMineCraft\nTomb Raider\n",
          "name": "stdout"
        }
      ]
    },
    {
      "metadata": {
        "trusted": true
      },
      "cell_type": "code",
      "source": "#each index use []\nfor i in range (0, len(games)):\n    if games[i][\"price\"]<20:\n        print (games[i][\"title\"])",
      "execution_count": 23,
      "outputs": [
        {
          "output_type": "stream",
          "text": "Creative Destruction\nMineCraft\nTomb Raider\n",
          "name": "stdout"
        }
      ]
    },
    {
      "metadata": {
        "trusted": true
      },
      "cell_type": "code",
      "source": "",
      "execution_count": null,
      "outputs": []
    }
  ],
  "metadata": {
    "kernelspec": {
      "name": "python36",
      "display_name": "Python 3.6",
      "language": "python"
    },
    "language_info": {
      "mimetype": "text/x-python",
      "nbconvert_exporter": "python",
      "name": "python",
      "pygments_lexer": "ipython3",
      "version": "3.6.6",
      "file_extension": ".py",
      "codemirror_mode": {
        "version": 3,
        "name": "ipython"
      }
    }
  },
  "nbformat": 4,
  "nbformat_minor": 2
}