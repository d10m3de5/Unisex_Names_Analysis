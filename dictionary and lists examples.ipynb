{
  "cells": [
    {
      "metadata": {
        "trusted": true
      },
      "cell_type": "code",
      "source": "#Lists and Dictionaries: A REVIEW\n\n#collection of animals list in []\n\nanimalNames=[\"Cat\",\"Lion\",\"Elephant\",\"Dog\" ]\nanimalNames",
      "execution_count": 2,
      "outputs": [
        {
          "output_type": "execute_result",
          "execution_count": 2,
          "data": {
            "text/plain": "['Cat', 'Lion', 'Elephant', 'Dog']"
          },
          "metadata": {}
        }
      ]
    },
    {
      "metadata": {
        "trusted": true
      },
      "cell_type": "code",
      "source": "animalNames[1] #to get the position of animals",
      "execution_count": 3,
      "outputs": [
        {
          "output_type": "execute_result",
          "execution_count": 3,
          "data": {
            "text/plain": "'Lion'"
          },
          "metadata": {}
        }
      ]
    },
    {
      "metadata": {
        "trusted": true
      },
      "cell_type": "code",
      "source": "animalNames[-1]  #to get the last element",
      "execution_count": 4,
      "outputs": [
        {
          "output_type": "execute_result",
          "execution_count": 4,
          "data": {
            "text/plain": "'Dog'"
          },
          "metadata": {}
        }
      ]
    },
    {
      "metadata": {
        "trusted": true
      },
      "cell_type": "code",
      "source": "print(animalNames[1])",
      "execution_count": 10,
      "outputs": [
        {
          "output_type": "stream",
          "text": "Lion\n",
          "name": "stdout"
        }
      ]
    },
    {
      "metadata": {
        "trusted": true
      },
      "cell_type": "code",
      "source": "zooAnimals=[\"Zebra\", \"Snake\", \"Giraffe\"]\nzooAnimals",
      "execution_count": 13,
      "outputs": [
        {
          "output_type": "execute_result",
          "execution_count": 13,
          "data": {
            "text/plain": "['Zebra', 'Snake', 'Giraffe']"
          },
          "metadata": {}
        }
      ]
    },
    {
      "metadata": {
        "trusted": true
      },
      "cell_type": "code",
      "source": "len(zooAnimals)",
      "execution_count": 14,
      "outputs": [
        {
          "output_type": "execute_result",
          "execution_count": 14,
          "data": {
            "text/plain": "3"
          },
          "metadata": {}
        }
      ]
    },
    {
      "metadata": {
        "trusted": true
      },
      "cell_type": "code",
      "source": "#to add an element to list\n#use append\n\nzooAnimals.append(\"gorrilla\")\nzooAnimals",
      "execution_count": 15,
      "outputs": [
        {
          "output_type": "execute_result",
          "execution_count": 15,
          "data": {
            "text/plain": "['Zebra', 'Snake', 'Giraffe', 'gorrilla']"
          },
          "metadata": {}
        }
      ]
    },
    {
      "metadata": {
        "trusted": true
      },
      "cell_type": "code",
      "source": "#to add two lists together\nbigZoo=zooAnimals+animalNames\nbigZoo",
      "execution_count": 16,
      "outputs": [
        {
          "output_type": "execute_result",
          "execution_count": 16,
          "data": {
            "text/plain": "['Zebra', 'Snake', 'Giraffe', 'gorrilla', 'Cat', 'Lion', 'Elephant', 'Dog']"
          },
          "metadata": {}
        }
      ]
    },
    {
      "metadata": {
        "trusted": true
      },
      "cell_type": "code",
      "source": "#to print out every animal in animalNames\nfor i in animalNames:\n    print(i)",
      "execution_count": 19,
      "outputs": [
        {
          "output_type": "stream",
          "text": "Cat\nLion\nElephant\nDog\n",
          "name": "stdout"
        }
      ]
    },
    {
      "metadata": {
        "trusted": true
      },
      "cell_type": "code",
      "source": "#every single element in bigZoo\nfor i in bigZoo:\n    print(i)",
      "execution_count": 20,
      "outputs": [
        {
          "output_type": "stream",
          "text": "Zebra\nSnake\nGiraffe\ngorrilla\nCat\nLion\nElephant\nDog\n",
          "name": "stdout"
        }
      ]
    },
    {
      "metadata": {
        "trusted": true
      },
      "cell_type": "code",
      "source": "#Checking to see if badger is in bigZoo\nnewAnimal=\"Lion\"\n\nif newAnimal in bigZoo:\n    print(\"yes\")\nelse: \n    print(\"no\")\n",
      "execution_count": 22,
      "outputs": [
        {
          "output_type": "stream",
          "text": "yes\n",
          "name": "stdout"
        }
      ]
    },
    {
      "metadata": {
        "trusted": true
      },
      "cell_type": "code",
      "source": "#the counter will always be false so, it will print no\nnewAnimal=\"badger\"\ncounter=False\nfor animal in bigZoo:\n    if animal ==newAnimal:\n        print(\"yes\")\n        counter=True\nif not counter:\n    print(\"no\")",
      "execution_count": 26,
      "outputs": [
        {
          "output_type": "stream",
          "text": "no\n",
          "name": "stdout"
        }
      ]
    },
    {
      "metadata": {
        "trusted": true
      },
      "cell_type": "code",
      "source": "#Dictionary, add animal and age\nanimal={\"Name\": \"Badger\", \"Age\": 35}\nanimal",
      "execution_count": 31,
      "outputs": [
        {
          "output_type": "execute_result",
          "execution_count": 31,
          "data": {
            "text/plain": "{'Name': 'Badger', 'Age': 35}"
          },
          "metadata": {}
        }
      ]
    },
    {
      "metadata": {
        "trusted": true
      },
      "cell_type": "code",
      "source": "animal[\"Age\"]",
      "execution_count": 32,
      "outputs": [
        {
          "output_type": "execute_result",
          "execution_count": 32,
          "data": {
            "text/plain": "35"
          },
          "metadata": {}
        }
      ]
    },
    {
      "metadata": {
        "trusted": true
      },
      "cell_type": "code",
      "source": "animal1={\"Name\": \"Badger\", \"Age\": 35}\nanimal2={\"Name\": \"Mountain Lion\", \"Age\": 80}\nanimal3={\"Name\": \"Donkey\",\"Age\": 50 }\n\n#creating all animals into list\nanimals=[animal1,animal2,animal3]\n\nprint(\"Number of Animals\", len(animals))",
      "execution_count": 33,
      "outputs": [
        {
          "output_type": "stream",
          "text": "Number of Animals 3\n",
          "name": "stdout"
        }
      ]
    },
    {
      "metadata": {
        "trusted": true
      },
      "cell_type": "code",
      "source": "print(animals)",
      "execution_count": 34,
      "outputs": [
        {
          "output_type": "stream",
          "text": "[{'Name': 'Badger', 'Age': 35}, {'Name': 'Mountain Lion', 'Age': 80}, {'Name': 'Donkey', 'Age': 50}]\n",
          "name": "stdout"
        }
      ]
    },
    {
      "metadata": {
        "trusted": true
      },
      "cell_type": "code",
      "source": "print(animals[1])  #to access the second animal",
      "execution_count": 35,
      "outputs": [
        {
          "output_type": "stream",
          "text": "{'Name': 'Mountain Lion', 'Age': 80}\n",
          "name": "stdout"
        }
      ]
    },
    {
      "metadata": {
        "trusted": true
      },
      "cell_type": "code",
      "source": "print(animals[1][\"Age\"]) #access dictionary element",
      "execution_count": 36,
      "outputs": [
        {
          "output_type": "stream",
          "text": "80\n",
          "name": "stdout"
        }
      ]
    },
    {
      "metadata": {
        "trusted": true
      },
      "cell_type": "code",
      "source": "newAnimal=\"Badger\"\nisFound = False\nfor animal in animals:\n    if animal[\"Name\"]==newAnimal:\n        isFound=True\n        break\n        \nif not isFound:\n    print(\"No\")",
      "execution_count": 49,
      "outputs": []
    },
    {
      "metadata": {
        "trusted": true
      },
      "cell_type": "code",
      "source": "",
      "execution_count": null,
      "outputs": []
    }
  ],
  "metadata": {
    "kernelspec": {
      "name": "python36",
      "display_name": "Python 3.6",
      "language": "python"
    },
    "language_info": {
      "mimetype": "text/x-python",
      "nbconvert_exporter": "python",
      "name": "python",
      "pygments_lexer": "ipython3",
      "version": "3.6.6",
      "file_extension": ".py",
      "codemirror_mode": {
        "version": 3,
        "name": "ipython"
      }
    }
  },
  "nbformat": 4,
  "nbformat_minor": 2
}