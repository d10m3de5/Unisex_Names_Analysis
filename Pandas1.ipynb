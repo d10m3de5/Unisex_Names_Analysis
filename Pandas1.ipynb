{
  "cells": [
    {
      "metadata": {
        "trusted": true
      },
      "cell_type": "code",
      "source": "import pandas as pd #inport library of pandas\ndf =pd.read_csv('gapminder.tsv', sep='\\t')  #to read and open file, separate it by tab\ndf  #data frame = df",
      "execution_count": 5,
      "outputs": [
        {
          "output_type": "execute_result",
          "execution_count": 5,
          "data": {
            "text/html": "<div>\n<style scoped>\n    .dataframe tbody tr th:only-of-type {\n        vertical-align: middle;\n    }\n\n    .dataframe tbody tr th {\n        vertical-align: top;\n    }\n\n    .dataframe thead th {\n        text-align: right;\n    }\n</style>\n<table border=\"1\" class=\"dataframe\">\n  <thead>\n    <tr style=\"text-align: right;\">\n      <th></th>\n      <th>country</th>\n      <th>continent</th>\n      <th>year</th>\n      <th>lifeExp</th>\n      <th>pop</th>\n      <th>gdpPercap</th>\n    </tr>\n  </thead>\n  <tbody>\n    <tr>\n      <th>0</th>\n      <td>Afghanistan</td>\n      <td>Asia</td>\n      <td>1952</td>\n      <td>28.801</td>\n      <td>8425333</td>\n      <td>779.445314</td>\n    </tr>\n    <tr>\n      <th>1</th>\n      <td>Afghanistan</td>\n      <td>Asia</td>\n      <td>1957</td>\n      <td>30.332</td>\n      <td>9240934</td>\n      <td>820.853030</td>\n    </tr>\n    <tr>\n      <th>2</th>\n      <td>Afghanistan</td>\n      <td>Asia</td>\n      <td>1962</td>\n      <td>31.997</td>\n      <td>10267083</td>\n      <td>853.100710</td>\n    </tr>\n    <tr>\n      <th>3</th>\n      <td>Afghanistan</td>\n      <td>Asia</td>\n      <td>1967</td>\n      <td>34.020</td>\n      <td>11537966</td>\n      <td>836.197138</td>\n    </tr>\n    <tr>\n      <th>4</th>\n      <td>Afghanistan</td>\n      <td>Asia</td>\n      <td>1972</td>\n      <td>36.088</td>\n      <td>13079460</td>\n      <td>739.981106</td>\n    </tr>\n    <tr>\n      <th>5</th>\n      <td>Afghanistan</td>\n      <td>Asia</td>\n      <td>1977</td>\n      <td>38.438</td>\n      <td>14880372</td>\n      <td>786.113360</td>\n    </tr>\n    <tr>\n      <th>6</th>\n      <td>Afghanistan</td>\n      <td>Asia</td>\n      <td>1982</td>\n      <td>39.854</td>\n      <td>12881816</td>\n      <td>978.011439</td>\n    </tr>\n    <tr>\n      <th>7</th>\n      <td>Afghanistan</td>\n      <td>Asia</td>\n      <td>1987</td>\n      <td>40.822</td>\n      <td>13867957</td>\n      <td>852.395945</td>\n    </tr>\n    <tr>\n      <th>8</th>\n      <td>Afghanistan</td>\n      <td>Asia</td>\n      <td>1992</td>\n      <td>41.674</td>\n      <td>16317921</td>\n      <td>649.341395</td>\n    </tr>\n    <tr>\n      <th>9</th>\n      <td>Afghanistan</td>\n      <td>Asia</td>\n      <td>1997</td>\n      <td>41.763</td>\n      <td>22227415</td>\n      <td>635.341351</td>\n    </tr>\n    <tr>\n      <th>10</th>\n      <td>Afghanistan</td>\n      <td>Asia</td>\n      <td>2002</td>\n      <td>42.129</td>\n      <td>25268405</td>\n      <td>726.734055</td>\n    </tr>\n    <tr>\n      <th>11</th>\n      <td>Afghanistan</td>\n      <td>Asia</td>\n      <td>2007</td>\n      <td>43.828</td>\n      <td>31889923</td>\n      <td>974.580338</td>\n    </tr>\n    <tr>\n      <th>12</th>\n      <td>Albania</td>\n      <td>Europe</td>\n      <td>1952</td>\n      <td>55.230</td>\n      <td>1282697</td>\n      <td>1601.056136</td>\n    </tr>\n    <tr>\n      <th>13</th>\n      <td>Albania</td>\n      <td>Europe</td>\n      <td>1957</td>\n      <td>59.280</td>\n      <td>1476505</td>\n      <td>1942.284244</td>\n    </tr>\n    <tr>\n      <th>14</th>\n      <td>Albania</td>\n      <td>Europe</td>\n      <td>1962</td>\n      <td>64.820</td>\n      <td>1728137</td>\n      <td>2312.888958</td>\n    </tr>\n    <tr>\n      <th>15</th>\n      <td>Albania</td>\n      <td>Europe</td>\n      <td>1967</td>\n      <td>66.220</td>\n      <td>1984060</td>\n      <td>2760.196931</td>\n    </tr>\n    <tr>\n      <th>16</th>\n      <td>Albania</td>\n      <td>Europe</td>\n      <td>1972</td>\n      <td>67.690</td>\n      <td>2263554</td>\n      <td>3313.422188</td>\n    </tr>\n    <tr>\n      <th>17</th>\n      <td>Albania</td>\n      <td>Europe</td>\n      <td>1977</td>\n      <td>68.930</td>\n      <td>2509048</td>\n      <td>3533.003910</td>\n    </tr>\n    <tr>\n      <th>18</th>\n      <td>Albania</td>\n      <td>Europe</td>\n      <td>1982</td>\n      <td>70.420</td>\n      <td>2780097</td>\n      <td>3630.880722</td>\n    </tr>\n    <tr>\n      <th>19</th>\n      <td>Albania</td>\n      <td>Europe</td>\n      <td>1987</td>\n      <td>72.000</td>\n      <td>3075321</td>\n      <td>3738.932735</td>\n    </tr>\n    <tr>\n      <th>20</th>\n      <td>Albania</td>\n      <td>Europe</td>\n      <td>1992</td>\n      <td>71.581</td>\n      <td>3326498</td>\n      <td>2497.437901</td>\n    </tr>\n    <tr>\n      <th>21</th>\n      <td>Albania</td>\n      <td>Europe</td>\n      <td>1997</td>\n      <td>72.950</td>\n      <td>3428038</td>\n      <td>3193.054604</td>\n    </tr>\n    <tr>\n      <th>22</th>\n      <td>Albania</td>\n      <td>Europe</td>\n      <td>2002</td>\n      <td>75.651</td>\n      <td>3508512</td>\n      <td>4604.211737</td>\n    </tr>\n    <tr>\n      <th>23</th>\n      <td>Albania</td>\n      <td>Europe</td>\n      <td>2007</td>\n      <td>76.423</td>\n      <td>3600523</td>\n      <td>5937.029526</td>\n    </tr>\n    <tr>\n      <th>24</th>\n      <td>Algeria</td>\n      <td>Africa</td>\n      <td>1952</td>\n      <td>43.077</td>\n      <td>9279525</td>\n      <td>2449.008185</td>\n    </tr>\n    <tr>\n      <th>25</th>\n      <td>Algeria</td>\n      <td>Africa</td>\n      <td>1957</td>\n      <td>45.685</td>\n      <td>10270856</td>\n      <td>3013.976023</td>\n    </tr>\n    <tr>\n      <th>26</th>\n      <td>Algeria</td>\n      <td>Africa</td>\n      <td>1962</td>\n      <td>48.303</td>\n      <td>11000948</td>\n      <td>2550.816880</td>\n    </tr>\n    <tr>\n      <th>27</th>\n      <td>Algeria</td>\n      <td>Africa</td>\n      <td>1967</td>\n      <td>51.407</td>\n      <td>12760499</td>\n      <td>3246.991771</td>\n    </tr>\n    <tr>\n      <th>28</th>\n      <td>Algeria</td>\n      <td>Africa</td>\n      <td>1972</td>\n      <td>54.518</td>\n      <td>14760787</td>\n      <td>4182.663766</td>\n    </tr>\n    <tr>\n      <th>29</th>\n      <td>Algeria</td>\n      <td>Africa</td>\n      <td>1977</td>\n      <td>58.014</td>\n      <td>17152804</td>\n      <td>4910.416756</td>\n    </tr>\n    <tr>\n      <th>...</th>\n      <td>...</td>\n      <td>...</td>\n      <td>...</td>\n      <td>...</td>\n      <td>...</td>\n      <td>...</td>\n    </tr>\n    <tr>\n      <th>1674</th>\n      <td>Yemen, Rep.</td>\n      <td>Asia</td>\n      <td>1982</td>\n      <td>49.113</td>\n      <td>9657618</td>\n      <td>1977.557010</td>\n    </tr>\n    <tr>\n      <th>1675</th>\n      <td>Yemen, Rep.</td>\n      <td>Asia</td>\n      <td>1987</td>\n      <td>52.922</td>\n      <td>11219340</td>\n      <td>1971.741538</td>\n    </tr>\n    <tr>\n      <th>1676</th>\n      <td>Yemen, Rep.</td>\n      <td>Asia</td>\n      <td>1992</td>\n      <td>55.599</td>\n      <td>13367997</td>\n      <td>1879.496673</td>\n    </tr>\n    <tr>\n      <th>1677</th>\n      <td>Yemen, Rep.</td>\n      <td>Asia</td>\n      <td>1997</td>\n      <td>58.020</td>\n      <td>15826497</td>\n      <td>2117.484526</td>\n    </tr>\n    <tr>\n      <th>1678</th>\n      <td>Yemen, Rep.</td>\n      <td>Asia</td>\n      <td>2002</td>\n      <td>60.308</td>\n      <td>18701257</td>\n      <td>2234.820827</td>\n    </tr>\n    <tr>\n      <th>1679</th>\n      <td>Yemen, Rep.</td>\n      <td>Asia</td>\n      <td>2007</td>\n      <td>62.698</td>\n      <td>22211743</td>\n      <td>2280.769906</td>\n    </tr>\n    <tr>\n      <th>1680</th>\n      <td>Zambia</td>\n      <td>Africa</td>\n      <td>1952</td>\n      <td>42.038</td>\n      <td>2672000</td>\n      <td>1147.388831</td>\n    </tr>\n    <tr>\n      <th>1681</th>\n      <td>Zambia</td>\n      <td>Africa</td>\n      <td>1957</td>\n      <td>44.077</td>\n      <td>3016000</td>\n      <td>1311.956766</td>\n    </tr>\n    <tr>\n      <th>1682</th>\n      <td>Zambia</td>\n      <td>Africa</td>\n      <td>1962</td>\n      <td>46.023</td>\n      <td>3421000</td>\n      <td>1452.725766</td>\n    </tr>\n    <tr>\n      <th>1683</th>\n      <td>Zambia</td>\n      <td>Africa</td>\n      <td>1967</td>\n      <td>47.768</td>\n      <td>3900000</td>\n      <td>1777.077318</td>\n    </tr>\n    <tr>\n      <th>1684</th>\n      <td>Zambia</td>\n      <td>Africa</td>\n      <td>1972</td>\n      <td>50.107</td>\n      <td>4506497</td>\n      <td>1773.498265</td>\n    </tr>\n    <tr>\n      <th>1685</th>\n      <td>Zambia</td>\n      <td>Africa</td>\n      <td>1977</td>\n      <td>51.386</td>\n      <td>5216550</td>\n      <td>1588.688299</td>\n    </tr>\n    <tr>\n      <th>1686</th>\n      <td>Zambia</td>\n      <td>Africa</td>\n      <td>1982</td>\n      <td>51.821</td>\n      <td>6100407</td>\n      <td>1408.678565</td>\n    </tr>\n    <tr>\n      <th>1687</th>\n      <td>Zambia</td>\n      <td>Africa</td>\n      <td>1987</td>\n      <td>50.821</td>\n      <td>7272406</td>\n      <td>1213.315116</td>\n    </tr>\n    <tr>\n      <th>1688</th>\n      <td>Zambia</td>\n      <td>Africa</td>\n      <td>1992</td>\n      <td>46.100</td>\n      <td>8381163</td>\n      <td>1210.884633</td>\n    </tr>\n    <tr>\n      <th>1689</th>\n      <td>Zambia</td>\n      <td>Africa</td>\n      <td>1997</td>\n      <td>40.238</td>\n      <td>9417789</td>\n      <td>1071.353818</td>\n    </tr>\n    <tr>\n      <th>1690</th>\n      <td>Zambia</td>\n      <td>Africa</td>\n      <td>2002</td>\n      <td>39.193</td>\n      <td>10595811</td>\n      <td>1071.613938</td>\n    </tr>\n    <tr>\n      <th>1691</th>\n      <td>Zambia</td>\n      <td>Africa</td>\n      <td>2007</td>\n      <td>42.384</td>\n      <td>11746035</td>\n      <td>1271.211593</td>\n    </tr>\n    <tr>\n      <th>1692</th>\n      <td>Zimbabwe</td>\n      <td>Africa</td>\n      <td>1952</td>\n      <td>48.451</td>\n      <td>3080907</td>\n      <td>406.884115</td>\n    </tr>\n    <tr>\n      <th>1693</th>\n      <td>Zimbabwe</td>\n      <td>Africa</td>\n      <td>1957</td>\n      <td>50.469</td>\n      <td>3646340</td>\n      <td>518.764268</td>\n    </tr>\n    <tr>\n      <th>1694</th>\n      <td>Zimbabwe</td>\n      <td>Africa</td>\n      <td>1962</td>\n      <td>52.358</td>\n      <td>4277736</td>\n      <td>527.272182</td>\n    </tr>\n    <tr>\n      <th>1695</th>\n      <td>Zimbabwe</td>\n      <td>Africa</td>\n      <td>1967</td>\n      <td>53.995</td>\n      <td>4995432</td>\n      <td>569.795071</td>\n    </tr>\n    <tr>\n      <th>1696</th>\n      <td>Zimbabwe</td>\n      <td>Africa</td>\n      <td>1972</td>\n      <td>55.635</td>\n      <td>5861135</td>\n      <td>799.362176</td>\n    </tr>\n    <tr>\n      <th>1697</th>\n      <td>Zimbabwe</td>\n      <td>Africa</td>\n      <td>1977</td>\n      <td>57.674</td>\n      <td>6642107</td>\n      <td>685.587682</td>\n    </tr>\n    <tr>\n      <th>1698</th>\n      <td>Zimbabwe</td>\n      <td>Africa</td>\n      <td>1982</td>\n      <td>60.363</td>\n      <td>7636524</td>\n      <td>788.855041</td>\n    </tr>\n    <tr>\n      <th>1699</th>\n      <td>Zimbabwe</td>\n      <td>Africa</td>\n      <td>1987</td>\n      <td>62.351</td>\n      <td>9216418</td>\n      <td>706.157306</td>\n    </tr>\n    <tr>\n      <th>1700</th>\n      <td>Zimbabwe</td>\n      <td>Africa</td>\n      <td>1992</td>\n      <td>60.377</td>\n      <td>10704340</td>\n      <td>693.420786</td>\n    </tr>\n    <tr>\n      <th>1701</th>\n      <td>Zimbabwe</td>\n      <td>Africa</td>\n      <td>1997</td>\n      <td>46.809</td>\n      <td>11404948</td>\n      <td>792.449960</td>\n    </tr>\n    <tr>\n      <th>1702</th>\n      <td>Zimbabwe</td>\n      <td>Africa</td>\n      <td>2002</td>\n      <td>39.989</td>\n      <td>11926563</td>\n      <td>672.038623</td>\n    </tr>\n    <tr>\n      <th>1703</th>\n      <td>Zimbabwe</td>\n      <td>Africa</td>\n      <td>2007</td>\n      <td>43.487</td>\n      <td>12311143</td>\n      <td>469.709298</td>\n    </tr>\n  </tbody>\n</table>\n<p>1704 rows × 6 columns</p>\n</div>",
            "text/plain": "          country continent  year  lifeExp       pop    gdpPercap\n0     Afghanistan      Asia  1952   28.801   8425333   779.445314\n1     Afghanistan      Asia  1957   30.332   9240934   820.853030\n2     Afghanistan      Asia  1962   31.997  10267083   853.100710\n3     Afghanistan      Asia  1967   34.020  11537966   836.197138\n4     Afghanistan      Asia  1972   36.088  13079460   739.981106\n5     Afghanistan      Asia  1977   38.438  14880372   786.113360\n6     Afghanistan      Asia  1982   39.854  12881816   978.011439\n7     Afghanistan      Asia  1987   40.822  13867957   852.395945\n8     Afghanistan      Asia  1992   41.674  16317921   649.341395\n9     Afghanistan      Asia  1997   41.763  22227415   635.341351\n10    Afghanistan      Asia  2002   42.129  25268405   726.734055\n11    Afghanistan      Asia  2007   43.828  31889923   974.580338\n12        Albania    Europe  1952   55.230   1282697  1601.056136\n13        Albania    Europe  1957   59.280   1476505  1942.284244\n14        Albania    Europe  1962   64.820   1728137  2312.888958\n15        Albania    Europe  1967   66.220   1984060  2760.196931\n16        Albania    Europe  1972   67.690   2263554  3313.422188\n17        Albania    Europe  1977   68.930   2509048  3533.003910\n18        Albania    Europe  1982   70.420   2780097  3630.880722\n19        Albania    Europe  1987   72.000   3075321  3738.932735\n20        Albania    Europe  1992   71.581   3326498  2497.437901\n21        Albania    Europe  1997   72.950   3428038  3193.054604\n22        Albania    Europe  2002   75.651   3508512  4604.211737\n23        Albania    Europe  2007   76.423   3600523  5937.029526\n24        Algeria    Africa  1952   43.077   9279525  2449.008185\n25        Algeria    Africa  1957   45.685  10270856  3013.976023\n26        Algeria    Africa  1962   48.303  11000948  2550.816880\n27        Algeria    Africa  1967   51.407  12760499  3246.991771\n28        Algeria    Africa  1972   54.518  14760787  4182.663766\n29        Algeria    Africa  1977   58.014  17152804  4910.416756\n...           ...       ...   ...      ...       ...          ...\n1674  Yemen, Rep.      Asia  1982   49.113   9657618  1977.557010\n1675  Yemen, Rep.      Asia  1987   52.922  11219340  1971.741538\n1676  Yemen, Rep.      Asia  1992   55.599  13367997  1879.496673\n1677  Yemen, Rep.      Asia  1997   58.020  15826497  2117.484526\n1678  Yemen, Rep.      Asia  2002   60.308  18701257  2234.820827\n1679  Yemen, Rep.      Asia  2007   62.698  22211743  2280.769906\n1680       Zambia    Africa  1952   42.038   2672000  1147.388831\n1681       Zambia    Africa  1957   44.077   3016000  1311.956766\n1682       Zambia    Africa  1962   46.023   3421000  1452.725766\n1683       Zambia    Africa  1967   47.768   3900000  1777.077318\n1684       Zambia    Africa  1972   50.107   4506497  1773.498265\n1685       Zambia    Africa  1977   51.386   5216550  1588.688299\n1686       Zambia    Africa  1982   51.821   6100407  1408.678565\n1687       Zambia    Africa  1987   50.821   7272406  1213.315116\n1688       Zambia    Africa  1992   46.100   8381163  1210.884633\n1689       Zambia    Africa  1997   40.238   9417789  1071.353818\n1690       Zambia    Africa  2002   39.193  10595811  1071.613938\n1691       Zambia    Africa  2007   42.384  11746035  1271.211593\n1692     Zimbabwe    Africa  1952   48.451   3080907   406.884115\n1693     Zimbabwe    Africa  1957   50.469   3646340   518.764268\n1694     Zimbabwe    Africa  1962   52.358   4277736   527.272182\n1695     Zimbabwe    Africa  1967   53.995   4995432   569.795071\n1696     Zimbabwe    Africa  1972   55.635   5861135   799.362176\n1697     Zimbabwe    Africa  1977   57.674   6642107   685.587682\n1698     Zimbabwe    Africa  1982   60.363   7636524   788.855041\n1699     Zimbabwe    Africa  1987   62.351   9216418   706.157306\n1700     Zimbabwe    Africa  1992   60.377  10704340   693.420786\n1701     Zimbabwe    Africa  1997   46.809  11404948   792.449960\n1702     Zimbabwe    Africa  2002   39.989  11926563   672.038623\n1703     Zimbabwe    Africa  2007   43.487  12311143   469.709298\n\n[1704 rows x 6 columns]"
          },
          "metadata": {}
        }
      ]
    },
    {
      "metadata": {
        "trusted": true
      },
      "cell_type": "code",
      "source": "df.head() #function of 1st five",
      "execution_count": 4,
      "outputs": [
        {
          "output_type": "execute_result",
          "execution_count": 4,
          "data": {
            "text/html": "<div>\n<style scoped>\n    .dataframe tbody tr th:only-of-type {\n        vertical-align: middle;\n    }\n\n    .dataframe tbody tr th {\n        vertical-align: top;\n    }\n\n    .dataframe thead th {\n        text-align: right;\n    }\n</style>\n<table border=\"1\" class=\"dataframe\">\n  <thead>\n    <tr style=\"text-align: right;\">\n      <th></th>\n      <th>country</th>\n      <th>continent</th>\n      <th>year</th>\n      <th>lifeExp</th>\n      <th>pop</th>\n      <th>gdpPercap</th>\n    </tr>\n  </thead>\n  <tbody>\n    <tr>\n      <th>0</th>\n      <td>Afghanistan</td>\n      <td>Asia</td>\n      <td>1952</td>\n      <td>28.801</td>\n      <td>8425333</td>\n      <td>779.445314</td>\n    </tr>\n    <tr>\n      <th>1</th>\n      <td>Afghanistan</td>\n      <td>Asia</td>\n      <td>1957</td>\n      <td>30.332</td>\n      <td>9240934</td>\n      <td>820.853030</td>\n    </tr>\n    <tr>\n      <th>2</th>\n      <td>Afghanistan</td>\n      <td>Asia</td>\n      <td>1962</td>\n      <td>31.997</td>\n      <td>10267083</td>\n      <td>853.100710</td>\n    </tr>\n    <tr>\n      <th>3</th>\n      <td>Afghanistan</td>\n      <td>Asia</td>\n      <td>1967</td>\n      <td>34.020</td>\n      <td>11537966</td>\n      <td>836.197138</td>\n    </tr>\n    <tr>\n      <th>4</th>\n      <td>Afghanistan</td>\n      <td>Asia</td>\n      <td>1972</td>\n      <td>36.088</td>\n      <td>13079460</td>\n      <td>739.981106</td>\n    </tr>\n  </tbody>\n</table>\n</div>",
            "text/plain": "       country continent  year  lifeExp       pop   gdpPercap\n0  Afghanistan      Asia  1952   28.801   8425333  779.445314\n1  Afghanistan      Asia  1957   30.332   9240934  820.853030\n2  Afghanistan      Asia  1962   31.997  10267083  853.100710\n3  Afghanistan      Asia  1967   34.020  11537966  836.197138\n4  Afghanistan      Asia  1972   36.088  13079460  739.981106"
          },
          "metadata": {}
        }
      ]
    },
    {
      "metadata": {
        "trusted": true
      },
      "cell_type": "code",
      "source": "#Store the first 10 rows of data\n\ntop10=df.head(10)\ntop10",
      "execution_count": 5,
      "outputs": [
        {
          "output_type": "execute_result",
          "execution_count": 5,
          "data": {
            "text/html": "<div>\n<style scoped>\n    .dataframe tbody tr th:only-of-type {\n        vertical-align: middle;\n    }\n\n    .dataframe tbody tr th {\n        vertical-align: top;\n    }\n\n    .dataframe thead th {\n        text-align: right;\n    }\n</style>\n<table border=\"1\" class=\"dataframe\">\n  <thead>\n    <tr style=\"text-align: right;\">\n      <th></th>\n      <th>country</th>\n      <th>continent</th>\n      <th>year</th>\n      <th>lifeExp</th>\n      <th>pop</th>\n      <th>gdpPercap</th>\n    </tr>\n  </thead>\n  <tbody>\n    <tr>\n      <th>0</th>\n      <td>Afghanistan</td>\n      <td>Asia</td>\n      <td>1952</td>\n      <td>28.801</td>\n      <td>8425333</td>\n      <td>779.445314</td>\n    </tr>\n    <tr>\n      <th>1</th>\n      <td>Afghanistan</td>\n      <td>Asia</td>\n      <td>1957</td>\n      <td>30.332</td>\n      <td>9240934</td>\n      <td>820.853030</td>\n    </tr>\n    <tr>\n      <th>2</th>\n      <td>Afghanistan</td>\n      <td>Asia</td>\n      <td>1962</td>\n      <td>31.997</td>\n      <td>10267083</td>\n      <td>853.100710</td>\n    </tr>\n    <tr>\n      <th>3</th>\n      <td>Afghanistan</td>\n      <td>Asia</td>\n      <td>1967</td>\n      <td>34.020</td>\n      <td>11537966</td>\n      <td>836.197138</td>\n    </tr>\n    <tr>\n      <th>4</th>\n      <td>Afghanistan</td>\n      <td>Asia</td>\n      <td>1972</td>\n      <td>36.088</td>\n      <td>13079460</td>\n      <td>739.981106</td>\n    </tr>\n    <tr>\n      <th>5</th>\n      <td>Afghanistan</td>\n      <td>Asia</td>\n      <td>1977</td>\n      <td>38.438</td>\n      <td>14880372</td>\n      <td>786.113360</td>\n    </tr>\n    <tr>\n      <th>6</th>\n      <td>Afghanistan</td>\n      <td>Asia</td>\n      <td>1982</td>\n      <td>39.854</td>\n      <td>12881816</td>\n      <td>978.011439</td>\n    </tr>\n    <tr>\n      <th>7</th>\n      <td>Afghanistan</td>\n      <td>Asia</td>\n      <td>1987</td>\n      <td>40.822</td>\n      <td>13867957</td>\n      <td>852.395945</td>\n    </tr>\n    <tr>\n      <th>8</th>\n      <td>Afghanistan</td>\n      <td>Asia</td>\n      <td>1992</td>\n      <td>41.674</td>\n      <td>16317921</td>\n      <td>649.341395</td>\n    </tr>\n    <tr>\n      <th>9</th>\n      <td>Afghanistan</td>\n      <td>Asia</td>\n      <td>1997</td>\n      <td>41.763</td>\n      <td>22227415</td>\n      <td>635.341351</td>\n    </tr>\n  </tbody>\n</table>\n</div>",
            "text/plain": "       country continent  year  lifeExp       pop   gdpPercap\n0  Afghanistan      Asia  1952   28.801   8425333  779.445314\n1  Afghanistan      Asia  1957   30.332   9240934  820.853030\n2  Afghanistan      Asia  1962   31.997  10267083  853.100710\n3  Afghanistan      Asia  1967   34.020  11537966  836.197138\n4  Afghanistan      Asia  1972   36.088  13079460  739.981106\n5  Afghanistan      Asia  1977   38.438  14880372  786.113360\n6  Afghanistan      Asia  1982   39.854  12881816  978.011439\n7  Afghanistan      Asia  1987   40.822  13867957  852.395945\n8  Afghanistan      Asia  1992   41.674  16317921  649.341395\n9  Afghanistan      Asia  1997   41.763  22227415  635.341351"
          },
          "metadata": {}
        }
      ]
    },
    {
      "metadata": {
        "trusted": true
      },
      "cell_type": "code",
      "source": "#To do the back, means the last rows = tail function\ndf.tail()",
      "execution_count": 6,
      "outputs": [
        {
          "output_type": "execute_result",
          "execution_count": 6,
          "data": {
            "text/html": "<div>\n<style scoped>\n    .dataframe tbody tr th:only-of-type {\n        vertical-align: middle;\n    }\n\n    .dataframe tbody tr th {\n        vertical-align: top;\n    }\n\n    .dataframe thead th {\n        text-align: right;\n    }\n</style>\n<table border=\"1\" class=\"dataframe\">\n  <thead>\n    <tr style=\"text-align: right;\">\n      <th></th>\n      <th>country</th>\n      <th>continent</th>\n      <th>year</th>\n      <th>lifeExp</th>\n      <th>pop</th>\n      <th>gdpPercap</th>\n    </tr>\n  </thead>\n  <tbody>\n    <tr>\n      <th>1699</th>\n      <td>Zimbabwe</td>\n      <td>Africa</td>\n      <td>1987</td>\n      <td>62.351</td>\n      <td>9216418</td>\n      <td>706.157306</td>\n    </tr>\n    <tr>\n      <th>1700</th>\n      <td>Zimbabwe</td>\n      <td>Africa</td>\n      <td>1992</td>\n      <td>60.377</td>\n      <td>10704340</td>\n      <td>693.420786</td>\n    </tr>\n    <tr>\n      <th>1701</th>\n      <td>Zimbabwe</td>\n      <td>Africa</td>\n      <td>1997</td>\n      <td>46.809</td>\n      <td>11404948</td>\n      <td>792.449960</td>\n    </tr>\n    <tr>\n      <th>1702</th>\n      <td>Zimbabwe</td>\n      <td>Africa</td>\n      <td>2002</td>\n      <td>39.989</td>\n      <td>11926563</td>\n      <td>672.038623</td>\n    </tr>\n    <tr>\n      <th>1703</th>\n      <td>Zimbabwe</td>\n      <td>Africa</td>\n      <td>2007</td>\n      <td>43.487</td>\n      <td>12311143</td>\n      <td>469.709298</td>\n    </tr>\n  </tbody>\n</table>\n</div>",
            "text/plain": "       country continent  year  lifeExp       pop   gdpPercap\n1699  Zimbabwe    Africa  1987   62.351   9216418  706.157306\n1700  Zimbabwe    Africa  1992   60.377  10704340  693.420786\n1701  Zimbabwe    Africa  1997   46.809  11404948  792.449960\n1702  Zimbabwe    Africa  2002   39.989  11926563  672.038623\n1703  Zimbabwe    Africa  2007   43.487  12311143  469.709298"
          },
          "metadata": {}
        }
      ]
    },
    {
      "metadata": {
        "trusted": true
      },
      "cell_type": "code",
      "source": "last10=df.tail(10)  #to do the last ten same as head\nlast10",
      "execution_count": 7,
      "outputs": [
        {
          "output_type": "execute_result",
          "execution_count": 7,
          "data": {
            "text/html": "<div>\n<style scoped>\n    .dataframe tbody tr th:only-of-type {\n        vertical-align: middle;\n    }\n\n    .dataframe tbody tr th {\n        vertical-align: top;\n    }\n\n    .dataframe thead th {\n        text-align: right;\n    }\n</style>\n<table border=\"1\" class=\"dataframe\">\n  <thead>\n    <tr style=\"text-align: right;\">\n      <th></th>\n      <th>country</th>\n      <th>continent</th>\n      <th>year</th>\n      <th>lifeExp</th>\n      <th>pop</th>\n      <th>gdpPercap</th>\n    </tr>\n  </thead>\n  <tbody>\n    <tr>\n      <th>1694</th>\n      <td>Zimbabwe</td>\n      <td>Africa</td>\n      <td>1962</td>\n      <td>52.358</td>\n      <td>4277736</td>\n      <td>527.272182</td>\n    </tr>\n    <tr>\n      <th>1695</th>\n      <td>Zimbabwe</td>\n      <td>Africa</td>\n      <td>1967</td>\n      <td>53.995</td>\n      <td>4995432</td>\n      <td>569.795071</td>\n    </tr>\n    <tr>\n      <th>1696</th>\n      <td>Zimbabwe</td>\n      <td>Africa</td>\n      <td>1972</td>\n      <td>55.635</td>\n      <td>5861135</td>\n      <td>799.362176</td>\n    </tr>\n    <tr>\n      <th>1697</th>\n      <td>Zimbabwe</td>\n      <td>Africa</td>\n      <td>1977</td>\n      <td>57.674</td>\n      <td>6642107</td>\n      <td>685.587682</td>\n    </tr>\n    <tr>\n      <th>1698</th>\n      <td>Zimbabwe</td>\n      <td>Africa</td>\n      <td>1982</td>\n      <td>60.363</td>\n      <td>7636524</td>\n      <td>788.855041</td>\n    </tr>\n    <tr>\n      <th>1699</th>\n      <td>Zimbabwe</td>\n      <td>Africa</td>\n      <td>1987</td>\n      <td>62.351</td>\n      <td>9216418</td>\n      <td>706.157306</td>\n    </tr>\n    <tr>\n      <th>1700</th>\n      <td>Zimbabwe</td>\n      <td>Africa</td>\n      <td>1992</td>\n      <td>60.377</td>\n      <td>10704340</td>\n      <td>693.420786</td>\n    </tr>\n    <tr>\n      <th>1701</th>\n      <td>Zimbabwe</td>\n      <td>Africa</td>\n      <td>1997</td>\n      <td>46.809</td>\n      <td>11404948</td>\n      <td>792.449960</td>\n    </tr>\n    <tr>\n      <th>1702</th>\n      <td>Zimbabwe</td>\n      <td>Africa</td>\n      <td>2002</td>\n      <td>39.989</td>\n      <td>11926563</td>\n      <td>672.038623</td>\n    </tr>\n    <tr>\n      <th>1703</th>\n      <td>Zimbabwe</td>\n      <td>Africa</td>\n      <td>2007</td>\n      <td>43.487</td>\n      <td>12311143</td>\n      <td>469.709298</td>\n    </tr>\n  </tbody>\n</table>\n</div>",
            "text/plain": "       country continent  year  lifeExp       pop   gdpPercap\n1694  Zimbabwe    Africa  1962   52.358   4277736  527.272182\n1695  Zimbabwe    Africa  1967   53.995   4995432  569.795071\n1696  Zimbabwe    Africa  1972   55.635   5861135  799.362176\n1697  Zimbabwe    Africa  1977   57.674   6642107  685.587682\n1698  Zimbabwe    Africa  1982   60.363   7636524  788.855041\n1699  Zimbabwe    Africa  1987   62.351   9216418  706.157306\n1700  Zimbabwe    Africa  1992   60.377  10704340  693.420786\n1701  Zimbabwe    Africa  1997   46.809  11404948  792.449960\n1702  Zimbabwe    Africa  2002   39.989  11926563  672.038623\n1703  Zimbabwe    Africa  2007   43.487  12311143  469.709298"
          },
          "metadata": {}
        }
      ]
    },
    {
      "metadata": {
        "trusted": true
      },
      "cell_type": "code",
      "source": "#Extract columns for year\ndf[\"year\"]",
      "execution_count": 8,
      "outputs": [
        {
          "output_type": "execute_result",
          "execution_count": 8,
          "data": {
            "text/plain": "0       1952\n1       1957\n2       1962\n3       1967\n4       1972\n5       1977\n6       1982\n7       1987\n8       1992\n9       1997\n10      2002\n11      2007\n12      1952\n13      1957\n14      1962\n15      1967\n16      1972\n17      1977\n18      1982\n19      1987\n20      1992\n21      1997\n22      2002\n23      2007\n24      1952\n25      1957\n26      1962\n27      1967\n28      1972\n29      1977\n        ... \n1674    1982\n1675    1987\n1676    1992\n1677    1997\n1678    2002\n1679    2007\n1680    1952\n1681    1957\n1682    1962\n1683    1967\n1684    1972\n1685    1977\n1686    1982\n1687    1987\n1688    1992\n1689    1997\n1690    2002\n1691    2007\n1692    1952\n1693    1957\n1694    1962\n1695    1967\n1696    1972\n1697    1977\n1698    1982\n1699    1987\n1700    1992\n1701    1997\n1702    2002\n1703    2007\nName: year, Length: 1704, dtype: int64"
          },
          "metadata": {}
        }
      ]
    },
    {
      "metadata": {
        "trusted": true
      },
      "cell_type": "code",
      "source": "df.year #same as df[\"year\"]",
      "execution_count": 9,
      "outputs": [
        {
          "output_type": "execute_result",
          "execution_count": 9,
          "data": {
            "text/plain": "0       1952\n1       1957\n2       1962\n3       1967\n4       1972\n5       1977\n6       1982\n7       1987\n8       1992\n9       1997\n10      2002\n11      2007\n12      1952\n13      1957\n14      1962\n15      1967\n16      1972\n17      1977\n18      1982\n19      1987\n20      1992\n21      1997\n22      2002\n23      2007\n24      1952\n25      1957\n26      1962\n27      1967\n28      1972\n29      1977\n        ... \n1674    1982\n1675    1987\n1676    1992\n1677    1997\n1678    2002\n1679    2007\n1680    1952\n1681    1957\n1682    1962\n1683    1967\n1684    1972\n1685    1977\n1686    1982\n1687    1987\n1688    1992\n1689    1997\n1690    2002\n1691    2007\n1692    1952\n1693    1957\n1694    1962\n1695    1967\n1696    1972\n1697    1977\n1698    1982\n1699    1987\n1700    1992\n1701    1997\n1702    2002\n1703    2007\nName: year, Length: 1704, dtype: int64"
          },
          "metadata": {}
        }
      ]
    },
    {
      "metadata": {
        "trusted": true
      },
      "cell_type": "code",
      "source": "df.columns #listing of every single column",
      "execution_count": 10,
      "outputs": [
        {
          "output_type": "execute_result",
          "execution_count": 10,
          "data": {
            "text/plain": "Index(['country', 'continent', 'year', 'lifeExp', 'pop', 'gdpPercap'], dtype='object')"
          },
          "metadata": {}
        }
      ]
    },
    {
      "metadata": {
        "trusted": true
      },
      "cell_type": "code",
      "source": "cols=list(df.columns)  #to mess with lists as cols\ncols",
      "execution_count": 11,
      "outputs": [
        {
          "output_type": "execute_result",
          "execution_count": 11,
          "data": {
            "text/plain": "['country', 'continent', 'year', 'lifeExp', 'pop', 'gdpPercap']"
          },
          "metadata": {}
        }
      ]
    },
    {
      "metadata": {
        "trusted": true
      },
      "cell_type": "code",
      "source": "cols[-1]  #last element of this column",
      "execution_count": 12,
      "outputs": [
        {
          "output_type": "execute_result",
          "execution_count": 12,
          "data": {
            "text/plain": "'gdpPercap'"
          },
          "metadata": {}
        }
      ]
    },
    {
      "metadata": {
        "trusted": true
      },
      "cell_type": "code",
      "source": "df[cols[-1]] # all the gdppercap all values in here",
      "execution_count": 13,
      "outputs": [
        {
          "output_type": "execute_result",
          "execution_count": 13,
          "data": {
            "text/plain": "0        779.445314\n1        820.853030\n2        853.100710\n3        836.197138\n4        739.981106\n5        786.113360\n6        978.011439\n7        852.395945\n8        649.341395\n9        635.341351\n10       726.734055\n11       974.580338\n12      1601.056136\n13      1942.284244\n14      2312.888958\n15      2760.196931\n16      3313.422188\n17      3533.003910\n18      3630.880722\n19      3738.932735\n20      2497.437901\n21      3193.054604\n22      4604.211737\n23      5937.029526\n24      2449.008185\n25      3013.976023\n26      2550.816880\n27      3246.991771\n28      4182.663766\n29      4910.416756\n           ...     \n1674    1977.557010\n1675    1971.741538\n1676    1879.496673\n1677    2117.484526\n1678    2234.820827\n1679    2280.769906\n1680    1147.388831\n1681    1311.956766\n1682    1452.725766\n1683    1777.077318\n1684    1773.498265\n1685    1588.688299\n1686    1408.678565\n1687    1213.315116\n1688    1210.884633\n1689    1071.353818\n1690    1071.613938\n1691    1271.211593\n1692     406.884115\n1693     518.764268\n1694     527.272182\n1695     569.795071\n1696     799.362176\n1697     685.587682\n1698     788.855041\n1699     706.157306\n1700     693.420786\n1701     792.449960\n1702     672.038623\n1703     469.709298\nName: gdpPercap, Length: 1704, dtype: float64"
          },
          "metadata": {}
        }
      ]
    },
    {
      "metadata": {
        "trusted": true
      },
      "cell_type": "code",
      "source": "df[cols[0]] #for every country",
      "execution_count": 14,
      "outputs": [
        {
          "output_type": "execute_result",
          "execution_count": 14,
          "data": {
            "text/plain": "0       Afghanistan\n1       Afghanistan\n2       Afghanistan\n3       Afghanistan\n4       Afghanistan\n5       Afghanistan\n6       Afghanistan\n7       Afghanistan\n8       Afghanistan\n9       Afghanistan\n10      Afghanistan\n11      Afghanistan\n12          Albania\n13          Albania\n14          Albania\n15          Albania\n16          Albania\n17          Albania\n18          Albania\n19          Albania\n20          Albania\n21          Albania\n22          Albania\n23          Albania\n24          Algeria\n25          Algeria\n26          Algeria\n27          Algeria\n28          Algeria\n29          Algeria\n           ...     \n1674    Yemen, Rep.\n1675    Yemen, Rep.\n1676    Yemen, Rep.\n1677    Yemen, Rep.\n1678    Yemen, Rep.\n1679    Yemen, Rep.\n1680         Zambia\n1681         Zambia\n1682         Zambia\n1683         Zambia\n1684         Zambia\n1685         Zambia\n1686         Zambia\n1687         Zambia\n1688         Zambia\n1689         Zambia\n1690         Zambia\n1691         Zambia\n1692       Zimbabwe\n1693       Zimbabwe\n1694       Zimbabwe\n1695       Zimbabwe\n1696       Zimbabwe\n1697       Zimbabwe\n1698       Zimbabwe\n1699       Zimbabwe\n1700       Zimbabwe\n1701       Zimbabwe\n1702       Zimbabwe\n1703       Zimbabwe\nName: country, Length: 1704, dtype: object"
          },
          "metadata": {}
        }
      ]
    },
    {
      "metadata": {
        "trusted": true
      },
      "cell_type": "code",
      "source": "df.head()",
      "execution_count": 15,
      "outputs": [
        {
          "output_type": "execute_result",
          "execution_count": 15,
          "data": {
            "text/html": "<div>\n<style scoped>\n    .dataframe tbody tr th:only-of-type {\n        vertical-align: middle;\n    }\n\n    .dataframe tbody tr th {\n        vertical-align: top;\n    }\n\n    .dataframe thead th {\n        text-align: right;\n    }\n</style>\n<table border=\"1\" class=\"dataframe\">\n  <thead>\n    <tr style=\"text-align: right;\">\n      <th></th>\n      <th>country</th>\n      <th>continent</th>\n      <th>year</th>\n      <th>lifeExp</th>\n      <th>pop</th>\n      <th>gdpPercap</th>\n    </tr>\n  </thead>\n  <tbody>\n    <tr>\n      <th>0</th>\n      <td>Afghanistan</td>\n      <td>Asia</td>\n      <td>1952</td>\n      <td>28.801</td>\n      <td>8425333</td>\n      <td>779.445314</td>\n    </tr>\n    <tr>\n      <th>1</th>\n      <td>Afghanistan</td>\n      <td>Asia</td>\n      <td>1957</td>\n      <td>30.332</td>\n      <td>9240934</td>\n      <td>820.853030</td>\n    </tr>\n    <tr>\n      <th>2</th>\n      <td>Afghanistan</td>\n      <td>Asia</td>\n      <td>1962</td>\n      <td>31.997</td>\n      <td>10267083</td>\n      <td>853.100710</td>\n    </tr>\n    <tr>\n      <th>3</th>\n      <td>Afghanistan</td>\n      <td>Asia</td>\n      <td>1967</td>\n      <td>34.020</td>\n      <td>11537966</td>\n      <td>836.197138</td>\n    </tr>\n    <tr>\n      <th>4</th>\n      <td>Afghanistan</td>\n      <td>Asia</td>\n      <td>1972</td>\n      <td>36.088</td>\n      <td>13079460</td>\n      <td>739.981106</td>\n    </tr>\n  </tbody>\n</table>\n</div>",
            "text/plain": "       country continent  year  lifeExp       pop   gdpPercap\n0  Afghanistan      Asia  1952   28.801   8425333  779.445314\n1  Afghanistan      Asia  1957   30.332   9240934  820.853030\n2  Afghanistan      Asia  1962   31.997  10267083  853.100710\n3  Afghanistan      Asia  1967   34.020  11537966  836.197138\n4  Afghanistan      Asia  1972   36.088  13079460  739.981106"
          },
          "metadata": {}
        }
      ]
    },
    {
      "metadata": {
        "trusted": true
      },
      "cell_type": "code",
      "source": "#Review of Pandas Introduction\n#import python libraries\n\nimport numpy as np\nimport scipy as sp\nimport pandas as pd\nimport matplotlib as mpl\nimport seaborn as sns \n\n\n\n",
      "execution_count": 2,
      "outputs": []
    },
    {
      "metadata": {
        "trusted": true
      },
      "cell_type": "code",
      "source": "# Read csv file\ndf =pd.read_csv(\"http://rcs.bu.edu/examples/python/data_analysis/Salaries.csv\")\n",
      "execution_count": 7,
      "outputs": []
    },
    {
      "metadata": {
        "trusted": true
      },
      "cell_type": "code",
      "source": "df",
      "execution_count": 5,
      "outputs": [
        {
          "output_type": "execute_result",
          "execution_count": 5,
          "data": {
            "text/html": "<div>\n<style scoped>\n    .dataframe tbody tr th:only-of-type {\n        vertical-align: middle;\n    }\n\n    .dataframe tbody tr th {\n        vertical-align: top;\n    }\n\n    .dataframe thead th {\n        text-align: right;\n    }\n</style>\n<table border=\"1\" class=\"dataframe\">\n  <thead>\n    <tr style=\"text-align: right;\">\n      <th></th>\n      <th>rank</th>\n      <th>discipline</th>\n      <th>phd</th>\n      <th>service</th>\n      <th>sex</th>\n      <th>salary</th>\n    </tr>\n  </thead>\n  <tbody>\n    <tr>\n      <th>0</th>\n      <td>Prof</td>\n      <td>B</td>\n      <td>56</td>\n      <td>49</td>\n      <td>Male</td>\n      <td>186960</td>\n    </tr>\n    <tr>\n      <th>1</th>\n      <td>Prof</td>\n      <td>A</td>\n      <td>12</td>\n      <td>6</td>\n      <td>Male</td>\n      <td>93000</td>\n    </tr>\n    <tr>\n      <th>2</th>\n      <td>Prof</td>\n      <td>A</td>\n      <td>23</td>\n      <td>20</td>\n      <td>Male</td>\n      <td>110515</td>\n    </tr>\n    <tr>\n      <th>3</th>\n      <td>Prof</td>\n      <td>A</td>\n      <td>40</td>\n      <td>31</td>\n      <td>Male</td>\n      <td>131205</td>\n    </tr>\n    <tr>\n      <th>4</th>\n      <td>Prof</td>\n      <td>B</td>\n      <td>20</td>\n      <td>18</td>\n      <td>Male</td>\n      <td>104800</td>\n    </tr>\n    <tr>\n      <th>5</th>\n      <td>Prof</td>\n      <td>A</td>\n      <td>20</td>\n      <td>20</td>\n      <td>Male</td>\n      <td>122400</td>\n    </tr>\n    <tr>\n      <th>6</th>\n      <td>AssocProf</td>\n      <td>A</td>\n      <td>20</td>\n      <td>17</td>\n      <td>Male</td>\n      <td>81285</td>\n    </tr>\n    <tr>\n      <th>7</th>\n      <td>Prof</td>\n      <td>A</td>\n      <td>18</td>\n      <td>18</td>\n      <td>Male</td>\n      <td>126300</td>\n    </tr>\n    <tr>\n      <th>8</th>\n      <td>Prof</td>\n      <td>A</td>\n      <td>29</td>\n      <td>19</td>\n      <td>Male</td>\n      <td>94350</td>\n    </tr>\n    <tr>\n      <th>9</th>\n      <td>Prof</td>\n      <td>A</td>\n      <td>51</td>\n      <td>51</td>\n      <td>Male</td>\n      <td>57800</td>\n    </tr>\n    <tr>\n      <th>10</th>\n      <td>Prof</td>\n      <td>B</td>\n      <td>39</td>\n      <td>33</td>\n      <td>Male</td>\n      <td>128250</td>\n    </tr>\n    <tr>\n      <th>11</th>\n      <td>Prof</td>\n      <td>B</td>\n      <td>23</td>\n      <td>23</td>\n      <td>Male</td>\n      <td>134778</td>\n    </tr>\n    <tr>\n      <th>12</th>\n      <td>AsstProf</td>\n      <td>B</td>\n      <td>1</td>\n      <td>0</td>\n      <td>Male</td>\n      <td>88000</td>\n    </tr>\n    <tr>\n      <th>13</th>\n      <td>Prof</td>\n      <td>B</td>\n      <td>35</td>\n      <td>33</td>\n      <td>Male</td>\n      <td>162200</td>\n    </tr>\n    <tr>\n      <th>14</th>\n      <td>Prof</td>\n      <td>B</td>\n      <td>25</td>\n      <td>19</td>\n      <td>Male</td>\n      <td>153750</td>\n    </tr>\n    <tr>\n      <th>15</th>\n      <td>Prof</td>\n      <td>B</td>\n      <td>17</td>\n      <td>3</td>\n      <td>Male</td>\n      <td>150480</td>\n    </tr>\n    <tr>\n      <th>16</th>\n      <td>AsstProf</td>\n      <td>B</td>\n      <td>8</td>\n      <td>3</td>\n      <td>Male</td>\n      <td>75044</td>\n    </tr>\n    <tr>\n      <th>17</th>\n      <td>AsstProf</td>\n      <td>B</td>\n      <td>4</td>\n      <td>0</td>\n      <td>Male</td>\n      <td>92000</td>\n    </tr>\n    <tr>\n      <th>18</th>\n      <td>Prof</td>\n      <td>A</td>\n      <td>19</td>\n      <td>7</td>\n      <td>Male</td>\n      <td>107300</td>\n    </tr>\n    <tr>\n      <th>19</th>\n      <td>Prof</td>\n      <td>A</td>\n      <td>29</td>\n      <td>27</td>\n      <td>Male</td>\n      <td>150500</td>\n    </tr>\n    <tr>\n      <th>20</th>\n      <td>AsstProf</td>\n      <td>B</td>\n      <td>4</td>\n      <td>4</td>\n      <td>Male</td>\n      <td>92000</td>\n    </tr>\n    <tr>\n      <th>21</th>\n      <td>Prof</td>\n      <td>A</td>\n      <td>33</td>\n      <td>30</td>\n      <td>Male</td>\n      <td>103106</td>\n    </tr>\n    <tr>\n      <th>22</th>\n      <td>AsstProf</td>\n      <td>A</td>\n      <td>4</td>\n      <td>2</td>\n      <td>Male</td>\n      <td>73000</td>\n    </tr>\n    <tr>\n      <th>23</th>\n      <td>AsstProf</td>\n      <td>A</td>\n      <td>2</td>\n      <td>0</td>\n      <td>Male</td>\n      <td>85000</td>\n    </tr>\n    <tr>\n      <th>24</th>\n      <td>Prof</td>\n      <td>A</td>\n      <td>30</td>\n      <td>23</td>\n      <td>Male</td>\n      <td>91100</td>\n    </tr>\n    <tr>\n      <th>25</th>\n      <td>Prof</td>\n      <td>B</td>\n      <td>35</td>\n      <td>31</td>\n      <td>Male</td>\n      <td>99418</td>\n    </tr>\n    <tr>\n      <th>26</th>\n      <td>Prof</td>\n      <td>A</td>\n      <td>38</td>\n      <td>19</td>\n      <td>Male</td>\n      <td>148750</td>\n    </tr>\n    <tr>\n      <th>27</th>\n      <td>Prof</td>\n      <td>A</td>\n      <td>45</td>\n      <td>43</td>\n      <td>Male</td>\n      <td>155865</td>\n    </tr>\n    <tr>\n      <th>28</th>\n      <td>AsstProf</td>\n      <td>B</td>\n      <td>7</td>\n      <td>2</td>\n      <td>Male</td>\n      <td>91300</td>\n    </tr>\n    <tr>\n      <th>29</th>\n      <td>Prof</td>\n      <td>B</td>\n      <td>21</td>\n      <td>20</td>\n      <td>Male</td>\n      <td>123683</td>\n    </tr>\n    <tr>\n      <th>...</th>\n      <td>...</td>\n      <td>...</td>\n      <td>...</td>\n      <td>...</td>\n      <td>...</td>\n      <td>...</td>\n    </tr>\n    <tr>\n      <th>48</th>\n      <td>Prof</td>\n      <td>B</td>\n      <td>17</td>\n      <td>17</td>\n      <td>Female</td>\n      <td>111512</td>\n    </tr>\n    <tr>\n      <th>49</th>\n      <td>Prof</td>\n      <td>B</td>\n      <td>17</td>\n      <td>18</td>\n      <td>Female</td>\n      <td>122960</td>\n    </tr>\n    <tr>\n      <th>50</th>\n      <td>AsstProf</td>\n      <td>B</td>\n      <td>10</td>\n      <td>5</td>\n      <td>Female</td>\n      <td>97032</td>\n    </tr>\n    <tr>\n      <th>51</th>\n      <td>Prof</td>\n      <td>B</td>\n      <td>20</td>\n      <td>14</td>\n      <td>Female</td>\n      <td>127512</td>\n    </tr>\n    <tr>\n      <th>52</th>\n      <td>Prof</td>\n      <td>A</td>\n      <td>12</td>\n      <td>0</td>\n      <td>Female</td>\n      <td>105000</td>\n    </tr>\n    <tr>\n      <th>53</th>\n      <td>AsstProf</td>\n      <td>A</td>\n      <td>5</td>\n      <td>3</td>\n      <td>Female</td>\n      <td>73500</td>\n    </tr>\n    <tr>\n      <th>54</th>\n      <td>AssocProf</td>\n      <td>A</td>\n      <td>25</td>\n      <td>22</td>\n      <td>Female</td>\n      <td>62884</td>\n    </tr>\n    <tr>\n      <th>55</th>\n      <td>AsstProf</td>\n      <td>A</td>\n      <td>2</td>\n      <td>0</td>\n      <td>Female</td>\n      <td>72500</td>\n    </tr>\n    <tr>\n      <th>56</th>\n      <td>AssocProf</td>\n      <td>A</td>\n      <td>10</td>\n      <td>8</td>\n      <td>Female</td>\n      <td>77500</td>\n    </tr>\n    <tr>\n      <th>57</th>\n      <td>AsstProf</td>\n      <td>A</td>\n      <td>3</td>\n      <td>1</td>\n      <td>Female</td>\n      <td>72500</td>\n    </tr>\n    <tr>\n      <th>58</th>\n      <td>Prof</td>\n      <td>B</td>\n      <td>36</td>\n      <td>26</td>\n      <td>Female</td>\n      <td>144651</td>\n    </tr>\n    <tr>\n      <th>59</th>\n      <td>AssocProf</td>\n      <td>B</td>\n      <td>12</td>\n      <td>10</td>\n      <td>Female</td>\n      <td>103994</td>\n    </tr>\n    <tr>\n      <th>60</th>\n      <td>AsstProf</td>\n      <td>B</td>\n      <td>3</td>\n      <td>3</td>\n      <td>Female</td>\n      <td>92000</td>\n    </tr>\n    <tr>\n      <th>61</th>\n      <td>AssocProf</td>\n      <td>B</td>\n      <td>13</td>\n      <td>10</td>\n      <td>Female</td>\n      <td>103750</td>\n    </tr>\n    <tr>\n      <th>62</th>\n      <td>AssocProf</td>\n      <td>B</td>\n      <td>14</td>\n      <td>7</td>\n      <td>Female</td>\n      <td>109650</td>\n    </tr>\n    <tr>\n      <th>63</th>\n      <td>Prof</td>\n      <td>A</td>\n      <td>29</td>\n      <td>27</td>\n      <td>Female</td>\n      <td>91000</td>\n    </tr>\n    <tr>\n      <th>64</th>\n      <td>AssocProf</td>\n      <td>A</td>\n      <td>26</td>\n      <td>24</td>\n      <td>Female</td>\n      <td>73300</td>\n    </tr>\n    <tr>\n      <th>65</th>\n      <td>Prof</td>\n      <td>A</td>\n      <td>36</td>\n      <td>19</td>\n      <td>Female</td>\n      <td>117555</td>\n    </tr>\n    <tr>\n      <th>66</th>\n      <td>AsstProf</td>\n      <td>A</td>\n      <td>7</td>\n      <td>6</td>\n      <td>Female</td>\n      <td>63100</td>\n    </tr>\n    <tr>\n      <th>67</th>\n      <td>Prof</td>\n      <td>A</td>\n      <td>17</td>\n      <td>11</td>\n      <td>Female</td>\n      <td>90450</td>\n    </tr>\n    <tr>\n      <th>68</th>\n      <td>AsstProf</td>\n      <td>A</td>\n      <td>4</td>\n      <td>2</td>\n      <td>Female</td>\n      <td>77500</td>\n    </tr>\n    <tr>\n      <th>69</th>\n      <td>Prof</td>\n      <td>A</td>\n      <td>28</td>\n      <td>7</td>\n      <td>Female</td>\n      <td>116450</td>\n    </tr>\n    <tr>\n      <th>70</th>\n      <td>AsstProf</td>\n      <td>A</td>\n      <td>8</td>\n      <td>3</td>\n      <td>Female</td>\n      <td>78500</td>\n    </tr>\n    <tr>\n      <th>71</th>\n      <td>AssocProf</td>\n      <td>B</td>\n      <td>12</td>\n      <td>9</td>\n      <td>Female</td>\n      <td>71065</td>\n    </tr>\n    <tr>\n      <th>72</th>\n      <td>Prof</td>\n      <td>B</td>\n      <td>24</td>\n      <td>15</td>\n      <td>Female</td>\n      <td>161101</td>\n    </tr>\n    <tr>\n      <th>73</th>\n      <td>Prof</td>\n      <td>B</td>\n      <td>18</td>\n      <td>10</td>\n      <td>Female</td>\n      <td>105450</td>\n    </tr>\n    <tr>\n      <th>74</th>\n      <td>AssocProf</td>\n      <td>B</td>\n      <td>19</td>\n      <td>6</td>\n      <td>Female</td>\n      <td>104542</td>\n    </tr>\n    <tr>\n      <th>75</th>\n      <td>Prof</td>\n      <td>B</td>\n      <td>17</td>\n      <td>17</td>\n      <td>Female</td>\n      <td>124312</td>\n    </tr>\n    <tr>\n      <th>76</th>\n      <td>Prof</td>\n      <td>A</td>\n      <td>28</td>\n      <td>14</td>\n      <td>Female</td>\n      <td>109954</td>\n    </tr>\n    <tr>\n      <th>77</th>\n      <td>Prof</td>\n      <td>A</td>\n      <td>23</td>\n      <td>15</td>\n      <td>Female</td>\n      <td>109646</td>\n    </tr>\n  </tbody>\n</table>\n<p>78 rows × 6 columns</p>\n</div>",
            "text/plain": "         rank discipline  phd  service     sex  salary\n0        Prof          B   56       49    Male  186960\n1        Prof          A   12        6    Male   93000\n2        Prof          A   23       20    Male  110515\n3        Prof          A   40       31    Male  131205\n4        Prof          B   20       18    Male  104800\n5        Prof          A   20       20    Male  122400\n6   AssocProf          A   20       17    Male   81285\n7        Prof          A   18       18    Male  126300\n8        Prof          A   29       19    Male   94350\n9        Prof          A   51       51    Male   57800\n10       Prof          B   39       33    Male  128250\n11       Prof          B   23       23    Male  134778\n12   AsstProf          B    1        0    Male   88000\n13       Prof          B   35       33    Male  162200\n14       Prof          B   25       19    Male  153750\n15       Prof          B   17        3    Male  150480\n16   AsstProf          B    8        3    Male   75044\n17   AsstProf          B    4        0    Male   92000\n18       Prof          A   19        7    Male  107300\n19       Prof          A   29       27    Male  150500\n20   AsstProf          B    4        4    Male   92000\n21       Prof          A   33       30    Male  103106\n22   AsstProf          A    4        2    Male   73000\n23   AsstProf          A    2        0    Male   85000\n24       Prof          A   30       23    Male   91100\n25       Prof          B   35       31    Male   99418\n26       Prof          A   38       19    Male  148750\n27       Prof          A   45       43    Male  155865\n28   AsstProf          B    7        2    Male   91300\n29       Prof          B   21       20    Male  123683\n..        ...        ...  ...      ...     ...     ...\n48       Prof          B   17       17  Female  111512\n49       Prof          B   17       18  Female  122960\n50   AsstProf          B   10        5  Female   97032\n51       Prof          B   20       14  Female  127512\n52       Prof          A   12        0  Female  105000\n53   AsstProf          A    5        3  Female   73500\n54  AssocProf          A   25       22  Female   62884\n55   AsstProf          A    2        0  Female   72500\n56  AssocProf          A   10        8  Female   77500\n57   AsstProf          A    3        1  Female   72500\n58       Prof          B   36       26  Female  144651\n59  AssocProf          B   12       10  Female  103994\n60   AsstProf          B    3        3  Female   92000\n61  AssocProf          B   13       10  Female  103750\n62  AssocProf          B   14        7  Female  109650\n63       Prof          A   29       27  Female   91000\n64  AssocProf          A   26       24  Female   73300\n65       Prof          A   36       19  Female  117555\n66   AsstProf          A    7        6  Female   63100\n67       Prof          A   17       11  Female   90450\n68   AsstProf          A    4        2  Female   77500\n69       Prof          A   28        7  Female  116450\n70   AsstProf          A    8        3  Female   78500\n71  AssocProf          B   12        9  Female   71065\n72       Prof          B   24       15  Female  161101\n73       Prof          B   18       10  Female  105450\n74  AssocProf          B   19        6  Female  104542\n75       Prof          B   17       17  Female  124312\n76       Prof          A   28       14  Female  109954\n77       Prof          A   23       15  Female  109646\n\n[78 rows x 6 columns]"
          },
          "metadata": {}
        }
      ]
    },
    {
      "metadata": {
        "trusted": true
      },
      "cell_type": "code",
      "source": "print(df.head(10)) #the number 10 is the first ten",
      "execution_count": 8,
      "outputs": [
        {
          "output_type": "stream",
          "text": "        rank discipline  phd  service   sex  salary\n0       Prof          B   56       49  Male  186960\n1       Prof          A   12        6  Male   93000\n2       Prof          A   23       20  Male  110515\n3       Prof          A   40       31  Male  131205\n4       Prof          B   20       18  Male  104800\n5       Prof          A   20       20  Male  122400\n6  AssocProf          A   20       17  Male   81285\n7       Prof          A   18       18  Male  126300\n8       Prof          A   29       19  Male   94350\n9       Prof          A   51       51  Male   57800\n",
          "name": "stdout"
        }
      ]
    },
    {
      "metadata": {
        "trusted": true
      },
      "cell_type": "code",
      "source": "df['salary'].dtype  #data type for the column",
      "execution_count": 9,
      "outputs": [
        {
          "output_type": "execute_result",
          "execution_count": 9,
          "data": {
            "text/plain": "dtype('int64')"
          },
          "metadata": {}
        }
      ]
    },
    {
      "metadata": {
        "trusted": true
      },
      "cell_type": "code",
      "source": "#Checks types for all the columns\ndf.dtypes",
      "execution_count": 12,
      "outputs": [
        {
          "output_type": "execute_result",
          "execution_count": 12,
          "data": {
            "text/plain": "rank          object\ndiscipline    object\nphd            int64\nservice        int64\nsex           object\nsalary         int64\ndtype: object"
          },
          "metadata": {}
        }
      ]
    },
    {
      "metadata": {
        "trusted": true
      },
      "cell_type": "code",
      "source": "len(df) #the number of rows ",
      "execution_count": 13,
      "outputs": [
        {
          "output_type": "execute_result",
          "execution_count": 13,
          "data": {
            "text/plain": "78"
          },
          "metadata": {}
        }
      ]
    },
    {
      "metadata": {
        "trusted": true
      },
      "cell_type": "code",
      "source": "df.size #same as length ",
      "execution_count": 15,
      "outputs": [
        {
          "output_type": "execute_result",
          "execution_count": 15,
          "data": {
            "text/plain": "468"
          },
          "metadata": {}
        }
      ]
    },
    {
      "metadata": {
        "trusted": true
      },
      "cell_type": "code",
      "source": "df.columns #the names of the columsn",
      "execution_count": 16,
      "outputs": [
        {
          "output_type": "execute_result",
          "execution_count": 16,
          "data": {
            "text/plain": "Index(['rank', 'discipline', 'phd', 'service', 'sex', 'salary'], dtype='object')"
          },
          "metadata": {}
        }
      ]
    },
    {
      "metadata": {
        "trusted": true
      },
      "cell_type": "code",
      "source": "df['rank']",
      "execution_count": 19,
      "outputs": [
        {
          "output_type": "execute_result",
          "execution_count": 19,
          "data": {
            "text/plain": "0          Prof\n1          Prof\n2          Prof\n3          Prof\n4          Prof\n5          Prof\n6     AssocProf\n7          Prof\n8          Prof\n9          Prof\n10         Prof\n11         Prof\n12     AsstProf\n13         Prof\n14         Prof\n15         Prof\n16     AsstProf\n17     AsstProf\n18         Prof\n19         Prof\n20     AsstProf\n21         Prof\n22     AsstProf\n23     AsstProf\n24         Prof\n25         Prof\n26         Prof\n27         Prof\n28     AsstProf\n29         Prof\n        ...    \n48         Prof\n49         Prof\n50     AsstProf\n51         Prof\n52         Prof\n53     AsstProf\n54    AssocProf\n55     AsstProf\n56    AssocProf\n57     AsstProf\n58         Prof\n59    AssocProf\n60     AsstProf\n61    AssocProf\n62    AssocProf\n63         Prof\n64    AssocProf\n65         Prof\n66     AsstProf\n67         Prof\n68     AsstProf\n69         Prof\n70     AsstProf\n71    AssocProf\n72         Prof\n73         Prof\n74    AssocProf\n75         Prof\n76         Prof\n77         Prof\nName: rank, Length: 78, dtype: object"
          },
          "metadata": {}
        }
      ]
    },
    {
      "metadata": {
        "trusted": true
      },
      "cell_type": "code",
      "source": "#To group data together use df.groupby([the name])\n#to group only the salary of rank, do .groupby('rank')[['salary'].mean()]\ndf.groupby(['rank'])",
      "execution_count": 8,
      "outputs": [
        {
          "output_type": "execute_result",
          "execution_count": 8,
          "data": {
            "text/plain": "<pandas.core.groupby.groupby.DataFrameGroupBy object at 0x7f3918d53dd8>"
          },
          "metadata": {}
        }
      ]
    },
    {
      "metadata": {
        "trusted": true
      },
      "cell_type": "code",
      "source": "df['rank']",
      "execution_count": 10,
      "outputs": [
        {
          "output_type": "execute_result",
          "execution_count": 10,
          "data": {
            "text/plain": "0          Prof\n1          Prof\n2          Prof\n3          Prof\n4          Prof\n5          Prof\n6     AssocProf\n7          Prof\n8          Prof\n9          Prof\n10         Prof\n11         Prof\n12     AsstProf\n13         Prof\n14         Prof\n15         Prof\n16     AsstProf\n17     AsstProf\n18         Prof\n19         Prof\n20     AsstProf\n21         Prof\n22     AsstProf\n23     AsstProf\n24         Prof\n25         Prof\n26         Prof\n27         Prof\n28     AsstProf\n29         Prof\n        ...    \n48         Prof\n49         Prof\n50     AsstProf\n51         Prof\n52         Prof\n53     AsstProf\n54    AssocProf\n55     AsstProf\n56    AssocProf\n57     AsstProf\n58         Prof\n59    AssocProf\n60     AsstProf\n61    AssocProf\n62    AssocProf\n63         Prof\n64    AssocProf\n65         Prof\n66     AsstProf\n67         Prof\n68     AsstProf\n69         Prof\n70     AsstProf\n71    AssocProf\n72         Prof\n73         Prof\n74    AssocProf\n75         Prof\n76         Prof\n77         Prof\nName: rank, Length: 78, dtype: object"
          },
          "metadata": {}
        }
      ]
    },
    {
      "metadata": {
        "trusted": true
      },
      "cell_type": "code",
      "source": "df",
      "execution_count": 11,
      "outputs": [
        {
          "output_type": "execute_result",
          "execution_count": 11,
          "data": {
            "text/html": "<div>\n<style scoped>\n    .dataframe tbody tr th:only-of-type {\n        vertical-align: middle;\n    }\n\n    .dataframe tbody tr th {\n        vertical-align: top;\n    }\n\n    .dataframe thead th {\n        text-align: right;\n    }\n</style>\n<table border=\"1\" class=\"dataframe\">\n  <thead>\n    <tr style=\"text-align: right;\">\n      <th></th>\n      <th>rank</th>\n      <th>discipline</th>\n      <th>phd</th>\n      <th>service</th>\n      <th>sex</th>\n      <th>salary</th>\n    </tr>\n  </thead>\n  <tbody>\n    <tr>\n      <th>0</th>\n      <td>Prof</td>\n      <td>B</td>\n      <td>56</td>\n      <td>49</td>\n      <td>Male</td>\n      <td>186960</td>\n    </tr>\n    <tr>\n      <th>1</th>\n      <td>Prof</td>\n      <td>A</td>\n      <td>12</td>\n      <td>6</td>\n      <td>Male</td>\n      <td>93000</td>\n    </tr>\n    <tr>\n      <th>2</th>\n      <td>Prof</td>\n      <td>A</td>\n      <td>23</td>\n      <td>20</td>\n      <td>Male</td>\n      <td>110515</td>\n    </tr>\n    <tr>\n      <th>3</th>\n      <td>Prof</td>\n      <td>A</td>\n      <td>40</td>\n      <td>31</td>\n      <td>Male</td>\n      <td>131205</td>\n    </tr>\n    <tr>\n      <th>4</th>\n      <td>Prof</td>\n      <td>B</td>\n      <td>20</td>\n      <td>18</td>\n      <td>Male</td>\n      <td>104800</td>\n    </tr>\n    <tr>\n      <th>5</th>\n      <td>Prof</td>\n      <td>A</td>\n      <td>20</td>\n      <td>20</td>\n      <td>Male</td>\n      <td>122400</td>\n    </tr>\n    <tr>\n      <th>6</th>\n      <td>AssocProf</td>\n      <td>A</td>\n      <td>20</td>\n      <td>17</td>\n      <td>Male</td>\n      <td>81285</td>\n    </tr>\n    <tr>\n      <th>7</th>\n      <td>Prof</td>\n      <td>A</td>\n      <td>18</td>\n      <td>18</td>\n      <td>Male</td>\n      <td>126300</td>\n    </tr>\n    <tr>\n      <th>8</th>\n      <td>Prof</td>\n      <td>A</td>\n      <td>29</td>\n      <td>19</td>\n      <td>Male</td>\n      <td>94350</td>\n    </tr>\n    <tr>\n      <th>9</th>\n      <td>Prof</td>\n      <td>A</td>\n      <td>51</td>\n      <td>51</td>\n      <td>Male</td>\n      <td>57800</td>\n    </tr>\n    <tr>\n      <th>10</th>\n      <td>Prof</td>\n      <td>B</td>\n      <td>39</td>\n      <td>33</td>\n      <td>Male</td>\n      <td>128250</td>\n    </tr>\n    <tr>\n      <th>11</th>\n      <td>Prof</td>\n      <td>B</td>\n      <td>23</td>\n      <td>23</td>\n      <td>Male</td>\n      <td>134778</td>\n    </tr>\n    <tr>\n      <th>12</th>\n      <td>AsstProf</td>\n      <td>B</td>\n      <td>1</td>\n      <td>0</td>\n      <td>Male</td>\n      <td>88000</td>\n    </tr>\n    <tr>\n      <th>13</th>\n      <td>Prof</td>\n      <td>B</td>\n      <td>35</td>\n      <td>33</td>\n      <td>Male</td>\n      <td>162200</td>\n    </tr>\n    <tr>\n      <th>14</th>\n      <td>Prof</td>\n      <td>B</td>\n      <td>25</td>\n      <td>19</td>\n      <td>Male</td>\n      <td>153750</td>\n    </tr>\n    <tr>\n      <th>15</th>\n      <td>Prof</td>\n      <td>B</td>\n      <td>17</td>\n      <td>3</td>\n      <td>Male</td>\n      <td>150480</td>\n    </tr>\n    <tr>\n      <th>16</th>\n      <td>AsstProf</td>\n      <td>B</td>\n      <td>8</td>\n      <td>3</td>\n      <td>Male</td>\n      <td>75044</td>\n    </tr>\n    <tr>\n      <th>17</th>\n      <td>AsstProf</td>\n      <td>B</td>\n      <td>4</td>\n      <td>0</td>\n      <td>Male</td>\n      <td>92000</td>\n    </tr>\n    <tr>\n      <th>18</th>\n      <td>Prof</td>\n      <td>A</td>\n      <td>19</td>\n      <td>7</td>\n      <td>Male</td>\n      <td>107300</td>\n    </tr>\n    <tr>\n      <th>19</th>\n      <td>Prof</td>\n      <td>A</td>\n      <td>29</td>\n      <td>27</td>\n      <td>Male</td>\n      <td>150500</td>\n    </tr>\n    <tr>\n      <th>20</th>\n      <td>AsstProf</td>\n      <td>B</td>\n      <td>4</td>\n      <td>4</td>\n      <td>Male</td>\n      <td>92000</td>\n    </tr>\n    <tr>\n      <th>21</th>\n      <td>Prof</td>\n      <td>A</td>\n      <td>33</td>\n      <td>30</td>\n      <td>Male</td>\n      <td>103106</td>\n    </tr>\n    <tr>\n      <th>22</th>\n      <td>AsstProf</td>\n      <td>A</td>\n      <td>4</td>\n      <td>2</td>\n      <td>Male</td>\n      <td>73000</td>\n    </tr>\n    <tr>\n      <th>23</th>\n      <td>AsstProf</td>\n      <td>A</td>\n      <td>2</td>\n      <td>0</td>\n      <td>Male</td>\n      <td>85000</td>\n    </tr>\n    <tr>\n      <th>24</th>\n      <td>Prof</td>\n      <td>A</td>\n      <td>30</td>\n      <td>23</td>\n      <td>Male</td>\n      <td>91100</td>\n    </tr>\n    <tr>\n      <th>25</th>\n      <td>Prof</td>\n      <td>B</td>\n      <td>35</td>\n      <td>31</td>\n      <td>Male</td>\n      <td>99418</td>\n    </tr>\n    <tr>\n      <th>26</th>\n      <td>Prof</td>\n      <td>A</td>\n      <td>38</td>\n      <td>19</td>\n      <td>Male</td>\n      <td>148750</td>\n    </tr>\n    <tr>\n      <th>27</th>\n      <td>Prof</td>\n      <td>A</td>\n      <td>45</td>\n      <td>43</td>\n      <td>Male</td>\n      <td>155865</td>\n    </tr>\n    <tr>\n      <th>28</th>\n      <td>AsstProf</td>\n      <td>B</td>\n      <td>7</td>\n      <td>2</td>\n      <td>Male</td>\n      <td>91300</td>\n    </tr>\n    <tr>\n      <th>29</th>\n      <td>Prof</td>\n      <td>B</td>\n      <td>21</td>\n      <td>20</td>\n      <td>Male</td>\n      <td>123683</td>\n    </tr>\n    <tr>\n      <th>...</th>\n      <td>...</td>\n      <td>...</td>\n      <td>...</td>\n      <td>...</td>\n      <td>...</td>\n      <td>...</td>\n    </tr>\n    <tr>\n      <th>48</th>\n      <td>Prof</td>\n      <td>B</td>\n      <td>17</td>\n      <td>17</td>\n      <td>Female</td>\n      <td>111512</td>\n    </tr>\n    <tr>\n      <th>49</th>\n      <td>Prof</td>\n      <td>B</td>\n      <td>17</td>\n      <td>18</td>\n      <td>Female</td>\n      <td>122960</td>\n    </tr>\n    <tr>\n      <th>50</th>\n      <td>AsstProf</td>\n      <td>B</td>\n      <td>10</td>\n      <td>5</td>\n      <td>Female</td>\n      <td>97032</td>\n    </tr>\n    <tr>\n      <th>51</th>\n      <td>Prof</td>\n      <td>B</td>\n      <td>20</td>\n      <td>14</td>\n      <td>Female</td>\n      <td>127512</td>\n    </tr>\n    <tr>\n      <th>52</th>\n      <td>Prof</td>\n      <td>A</td>\n      <td>12</td>\n      <td>0</td>\n      <td>Female</td>\n      <td>105000</td>\n    </tr>\n    <tr>\n      <th>53</th>\n      <td>AsstProf</td>\n      <td>A</td>\n      <td>5</td>\n      <td>3</td>\n      <td>Female</td>\n      <td>73500</td>\n    </tr>\n    <tr>\n      <th>54</th>\n      <td>AssocProf</td>\n      <td>A</td>\n      <td>25</td>\n      <td>22</td>\n      <td>Female</td>\n      <td>62884</td>\n    </tr>\n    <tr>\n      <th>55</th>\n      <td>AsstProf</td>\n      <td>A</td>\n      <td>2</td>\n      <td>0</td>\n      <td>Female</td>\n      <td>72500</td>\n    </tr>\n    <tr>\n      <th>56</th>\n      <td>AssocProf</td>\n      <td>A</td>\n      <td>10</td>\n      <td>8</td>\n      <td>Female</td>\n      <td>77500</td>\n    </tr>\n    <tr>\n      <th>57</th>\n      <td>AsstProf</td>\n      <td>A</td>\n      <td>3</td>\n      <td>1</td>\n      <td>Female</td>\n      <td>72500</td>\n    </tr>\n    <tr>\n      <th>58</th>\n      <td>Prof</td>\n      <td>B</td>\n      <td>36</td>\n      <td>26</td>\n      <td>Female</td>\n      <td>144651</td>\n    </tr>\n    <tr>\n      <th>59</th>\n      <td>AssocProf</td>\n      <td>B</td>\n      <td>12</td>\n      <td>10</td>\n      <td>Female</td>\n      <td>103994</td>\n    </tr>\n    <tr>\n      <th>60</th>\n      <td>AsstProf</td>\n      <td>B</td>\n      <td>3</td>\n      <td>3</td>\n      <td>Female</td>\n      <td>92000</td>\n    </tr>\n    <tr>\n      <th>61</th>\n      <td>AssocProf</td>\n      <td>B</td>\n      <td>13</td>\n      <td>10</td>\n      <td>Female</td>\n      <td>103750</td>\n    </tr>\n    <tr>\n      <th>62</th>\n      <td>AssocProf</td>\n      <td>B</td>\n      <td>14</td>\n      <td>7</td>\n      <td>Female</td>\n      <td>109650</td>\n    </tr>\n    <tr>\n      <th>63</th>\n      <td>Prof</td>\n      <td>A</td>\n      <td>29</td>\n      <td>27</td>\n      <td>Female</td>\n      <td>91000</td>\n    </tr>\n    <tr>\n      <th>64</th>\n      <td>AssocProf</td>\n      <td>A</td>\n      <td>26</td>\n      <td>24</td>\n      <td>Female</td>\n      <td>73300</td>\n    </tr>\n    <tr>\n      <th>65</th>\n      <td>Prof</td>\n      <td>A</td>\n      <td>36</td>\n      <td>19</td>\n      <td>Female</td>\n      <td>117555</td>\n    </tr>\n    <tr>\n      <th>66</th>\n      <td>AsstProf</td>\n      <td>A</td>\n      <td>7</td>\n      <td>6</td>\n      <td>Female</td>\n      <td>63100</td>\n    </tr>\n    <tr>\n      <th>67</th>\n      <td>Prof</td>\n      <td>A</td>\n      <td>17</td>\n      <td>11</td>\n      <td>Female</td>\n      <td>90450</td>\n    </tr>\n    <tr>\n      <th>68</th>\n      <td>AsstProf</td>\n      <td>A</td>\n      <td>4</td>\n      <td>2</td>\n      <td>Female</td>\n      <td>77500</td>\n    </tr>\n    <tr>\n      <th>69</th>\n      <td>Prof</td>\n      <td>A</td>\n      <td>28</td>\n      <td>7</td>\n      <td>Female</td>\n      <td>116450</td>\n    </tr>\n    <tr>\n      <th>70</th>\n      <td>AsstProf</td>\n      <td>A</td>\n      <td>8</td>\n      <td>3</td>\n      <td>Female</td>\n      <td>78500</td>\n    </tr>\n    <tr>\n      <th>71</th>\n      <td>AssocProf</td>\n      <td>B</td>\n      <td>12</td>\n      <td>9</td>\n      <td>Female</td>\n      <td>71065</td>\n    </tr>\n    <tr>\n      <th>72</th>\n      <td>Prof</td>\n      <td>B</td>\n      <td>24</td>\n      <td>15</td>\n      <td>Female</td>\n      <td>161101</td>\n    </tr>\n    <tr>\n      <th>73</th>\n      <td>Prof</td>\n      <td>B</td>\n      <td>18</td>\n      <td>10</td>\n      <td>Female</td>\n      <td>105450</td>\n    </tr>\n    <tr>\n      <th>74</th>\n      <td>AssocProf</td>\n      <td>B</td>\n      <td>19</td>\n      <td>6</td>\n      <td>Female</td>\n      <td>104542</td>\n    </tr>\n    <tr>\n      <th>75</th>\n      <td>Prof</td>\n      <td>B</td>\n      <td>17</td>\n      <td>17</td>\n      <td>Female</td>\n      <td>124312</td>\n    </tr>\n    <tr>\n      <th>76</th>\n      <td>Prof</td>\n      <td>A</td>\n      <td>28</td>\n      <td>14</td>\n      <td>Female</td>\n      <td>109954</td>\n    </tr>\n    <tr>\n      <th>77</th>\n      <td>Prof</td>\n      <td>A</td>\n      <td>23</td>\n      <td>15</td>\n      <td>Female</td>\n      <td>109646</td>\n    </tr>\n  </tbody>\n</table>\n<p>78 rows × 6 columns</p>\n</div>",
            "text/plain": "         rank discipline  phd  service     sex  salary\n0        Prof          B   56       49    Male  186960\n1        Prof          A   12        6    Male   93000\n2        Prof          A   23       20    Male  110515\n3        Prof          A   40       31    Male  131205\n4        Prof          B   20       18    Male  104800\n5        Prof          A   20       20    Male  122400\n6   AssocProf          A   20       17    Male   81285\n7        Prof          A   18       18    Male  126300\n8        Prof          A   29       19    Male   94350\n9        Prof          A   51       51    Male   57800\n10       Prof          B   39       33    Male  128250\n11       Prof          B   23       23    Male  134778\n12   AsstProf          B    1        0    Male   88000\n13       Prof          B   35       33    Male  162200\n14       Prof          B   25       19    Male  153750\n15       Prof          B   17        3    Male  150480\n16   AsstProf          B    8        3    Male   75044\n17   AsstProf          B    4        0    Male   92000\n18       Prof          A   19        7    Male  107300\n19       Prof          A   29       27    Male  150500\n20   AsstProf          B    4        4    Male   92000\n21       Prof          A   33       30    Male  103106\n22   AsstProf          A    4        2    Male   73000\n23   AsstProf          A    2        0    Male   85000\n24       Prof          A   30       23    Male   91100\n25       Prof          B   35       31    Male   99418\n26       Prof          A   38       19    Male  148750\n27       Prof          A   45       43    Male  155865\n28   AsstProf          B    7        2    Male   91300\n29       Prof          B   21       20    Male  123683\n..        ...        ...  ...      ...     ...     ...\n48       Prof          B   17       17  Female  111512\n49       Prof          B   17       18  Female  122960\n50   AsstProf          B   10        5  Female   97032\n51       Prof          B   20       14  Female  127512\n52       Prof          A   12        0  Female  105000\n53   AsstProf          A    5        3  Female   73500\n54  AssocProf          A   25       22  Female   62884\n55   AsstProf          A    2        0  Female   72500\n56  AssocProf          A   10        8  Female   77500\n57   AsstProf          A    3        1  Female   72500\n58       Prof          B   36       26  Female  144651\n59  AssocProf          B   12       10  Female  103994\n60   AsstProf          B    3        3  Female   92000\n61  AssocProf          B   13       10  Female  103750\n62  AssocProf          B   14        7  Female  109650\n63       Prof          A   29       27  Female   91000\n64  AssocProf          A   26       24  Female   73300\n65       Prof          A   36       19  Female  117555\n66   AsstProf          A    7        6  Female   63100\n67       Prof          A   17       11  Female   90450\n68   AsstProf          A    4        2  Female   77500\n69       Prof          A   28        7  Female  116450\n70   AsstProf          A    8        3  Female   78500\n71  AssocProf          B   12        9  Female   71065\n72       Prof          B   24       15  Female  161101\n73       Prof          B   18       10  Female  105450\n74  AssocProf          B   19        6  Female  104542\n75       Prof          B   17       17  Female  124312\n76       Prof          A   28       14  Female  109954\n77       Prof          A   23       15  Female  109646\n\n[78 rows x 6 columns]"
          },
          "metadata": {}
        }
      ]
    },
    {
      "metadata": {
        "trusted": true
      },
      "cell_type": "code",
      "source": "#index of rows\ndf['salary'].std()",
      "execution_count": 12,
      "outputs": [
        {
          "output_type": "execute_result",
          "execution_count": 12,
          "data": {
            "text/plain": "28293.661022264165"
          },
          "metadata": {}
        }
      ]
    },
    {
      "metadata": {
        "trusted": true
      },
      "cell_type": "code",
      "source": "df.groupby('rank')[['salary']].std()",
      "execution_count": 15,
      "outputs": [
        {
          "output_type": "execute_result",
          "execution_count": 15,
          "data": {
            "text/html": "<div>\n<style scoped>\n    .dataframe tbody tr th:only-of-type {\n        vertical-align: middle;\n    }\n\n    .dataframe tbody tr th {\n        vertical-align: top;\n    }\n\n    .dataframe thead th {\n        text-align: right;\n    }\n</style>\n<table border=\"1\" class=\"dataframe\">\n  <thead>\n    <tr style=\"text-align: right;\">\n      <th></th>\n      <th>salary</th>\n    </tr>\n    <tr>\n      <th>rank</th>\n      <th></th>\n    </tr>\n  </thead>\n  <tbody>\n    <tr>\n      <th>AssocProf</th>\n      <td>18571.183714</td>\n    </tr>\n    <tr>\n      <th>AsstProf</th>\n      <td>9381.245301</td>\n    </tr>\n    <tr>\n      <th>Prof</th>\n      <td>24850.287853</td>\n    </tr>\n  </tbody>\n</table>\n</div>",
            "text/plain": "                 salary\nrank                   \nAssocProf  18571.183714\nAsstProf    9381.245301\nProf       24850.287853"
          },
          "metadata": {}
        }
      ]
    },
    {
      "metadata": {
        "trusted": true
      },
      "cell_type": "code",
      "source": "    #only full professors, and find only salary mean\n    \navgSalary= df[df['rank']=='Prof']['salary'].mean()\nprint(\"Average Salary: \", avgSalary\n",
      "execution_count": 19,
      "outputs": [
        {
          "output_type": "stream",
          "text": "Average Salary:  123624.80434782608\n",
          "name": "stdout"
        }
      ]
    },
    {
      "metadata": {
        "trusted": true
      },
      "cell_type": "code",
      "source": "aboveAvg=df[df['salary']>avgSalary]\nprint(\"Above Avg: \", aboveAvg)\nprint(\"Length: \", len(aboveAvg))",
      "execution_count": 21,
      "outputs": [
        {
          "output_type": "stream",
          "text": "Above Avg:      rank discipline  phd  service     sex  salary\n0   Prof          B   56       49    Male  186960\n3   Prof          A   40       31    Male  131205\n7   Prof          A   18       18    Male  126300\n10  Prof          B   39       33    Male  128250\n11  Prof          B   23       23    Male  134778\n13  Prof          B   35       33    Male  162200\n14  Prof          B   25       19    Male  153750\n15  Prof          B   17        3    Male  150480\n19  Prof          A   29       27    Male  150500\n26  Prof          A   38       19    Male  148750\n27  Prof          A   45       43    Male  155865\n29  Prof          B   21       20    Male  123683\n31  Prof          B   22       21    Male  155750\n35  Prof          B   28       23    Male  126933\n36  Prof          B   45       45    Male  146856\n39  Prof          B   18       18  Female  129000\n40  Prof          A   39       36  Female  137000\n44  Prof          B   23       19  Female  151768\n45  Prof          B   25       25  Female  140096\n51  Prof          B   20       14  Female  127512\n58  Prof          B   36       26  Female  144651\n72  Prof          B   24       15  Female  161101\n75  Prof          B   17       17  Female  124312\nLength:  23\n",
          "name": "stdout"
        }
      ]
    },
    {
      "metadata": {
        "trusted": true
      },
      "cell_type": "code",
      "source": "",
      "execution_count": null,
      "outputs": []
    }
  ],
  "metadata": {
    "kernelspec": {
      "name": "python36",
      "display_name": "Python 3.6",
      "language": "python"
    },
    "language_info": {
      "mimetype": "text/x-python",
      "nbconvert_exporter": "python",
      "name": "python",
      "pygments_lexer": "ipython3",
      "version": "3.6.6",
      "file_extension": ".py",
      "codemirror_mode": {
        "version": 3,
        "name": "ipython"
      }
    }
  },
  "nbformat": 4,
  "nbformat_minor": 2
}